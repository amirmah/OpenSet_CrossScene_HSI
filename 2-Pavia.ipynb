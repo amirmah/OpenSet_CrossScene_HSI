{
  "cells": [
    {
      "cell_type": "code",
      "execution_count": null,
      "metadata": {
        "id": "Ic0zBeyzTNNu"
      },
      "outputs": [],
      "source": [
        "import tensorflow\n",
        "import numpy\n",
        "import tensorflow.keras as tfk\n",
        "import tensorflow as tf\n",
        "import tensorflow.keras.backend as K\n",
        "from keras.callbacks import EarlyStopping\n",
        "from keras.callbacks import ModelCheckpoint\n",
        "import math\n",
        "from keras.layers import Dense\n",
        "from keras.utils import plot_model\n",
        "from sklearn.utils import shuffle\n",
        "import gc"
      ]
    },
    {
      "cell_type": "code",
      "execution_count": null,
      "metadata": {
        "id": "-zJBz9uTTzKg"
      },
      "outputs": [],
      "source": [
        "img_size = 17\n",
        "kernel_size=(img_size,img_size)\n",
        "num_channels = 102\n",
        "num_classes=7\n",
        "latent_space_dim = 25\n",
        "beta=0.01\n",
        "alpha=0.00001\n",
        "LR_loss_factor=0.009\n",
        "TH=0.5"
      ]
    },
    {
      "cell_type": "code",
      "execution_count": null,
      "metadata": {
        "colab": {
          "base_uri": "https://localhost:8080/"
        },
        "id": "Kxy-M-UVgGpm",
        "outputId": "7d4fbb67-9ac8-40ab-d4bf-6d346e1eacd8"
      },
      "outputs": [
        {
          "output_type": "stream",
          "name": "stdout",
          "text": [
            "Requirement already satisfied: libmr in /usr/local/lib/python3.10/dist-packages (0.1.9)\n",
            "Requirement already satisfied: cython in /usr/local/lib/python3.10/dist-packages (from libmr) (3.0.10)\n",
            "Requirement already satisfied: numpy in /usr/local/lib/python3.10/dist-packages (from libmr) (1.25.2)\n"
          ]
        }
      ],
      "source": [
        "!pip install libmr\n",
        "import libmr"
      ]
    },
    {
      "cell_type": "markdown",
      "metadata": {
        "id": "3lDInza8ufPF"
      },
      "source": [
        "\n",
        "\n",
        "**Database:**\n",
        "PAVIA\n",
        "\n"
      ]
    },
    {
      "cell_type": "code",
      "execution_count": null,
      "metadata": {
        "colab": {
          "base_uri": "https://localhost:8080/"
        },
        "id": "Cm2jHnqaujwx",
        "outputId": "bfe93a95-bf08-4796-9107-07e04ad98c7f"
      },
      "outputs": [
        {
          "output_type": "stream",
          "name": "stdout",
          "text": [
            "Mounted at /content/drive\n"
          ]
        }
      ],
      "source": [
        "# Connect to google drive\n",
        "from google.colab import drive\n",
        "drive.mount('/content/drive')"
      ]
    },
    {
      "cell_type": "code",
      "execution_count": null,
      "metadata": {
        "colab": {
          "base_uri": "https://localhost:8080/"
        },
        "id": "2zeYK_l0vkyB",
        "outputId": "01a6019f-6dd0-476a-9442-4b60d4ed6433"
      },
      "outputs": [
        {
          "output_type": "stream",
          "name": "stdout",
          "text": [
            "/content/drive/My Drive\n",
            "/content/drive/My Drive/Amir\n"
          ]
        }
      ],
      "source": [
        "\n",
        "# Download the database and save it in google drive (Only if not already existing)\n",
        "import os.path\n",
        "\n",
        "%cd /content/drive/My\\ Drive/\n",
        "if(os.path.exists('Amir')==False):\n",
        "  !mkdir Amir\n",
        "%cd Amir\n",
        "\n",
        "if(os.path.isfile('Pavia.mat')==False):\n",
        "  !wget http://www.ehu.eus/ccwintco/uploads/e/e3/Pavia.mat\n",
        "\n",
        "if(os.path.isfile('Pavia_gt.mat')==False):\n",
        "  !wget http://www.ehu.eus/ccwintco/uploads/5/53/Pavia_gt.mat\n",
        "\n",
        "if(os.path.isfile('PaviaU.mat')==False):\n",
        "  !wget http://www.ehu.eus/ccwintco/uploads/e/ee/PaviaU.mat\n",
        "\n",
        "if(os.path.isfile('PaviaU_gt.mat')==False):\n",
        "  !wget http://www.ehu.eus/ccwintco/uploads/5/50/PaviaU_gt.mat"
      ]
    },
    {
      "cell_type": "code",
      "execution_count": null,
      "metadata": {
        "id": "zLGIvIAjwTN0"
      },
      "outputs": [],
      "source": [
        "%cd /content/drive/My\\ Drive/Amir\n",
        "%ls"
      ]
    },
    {
      "cell_type": "code",
      "execution_count": null,
      "metadata": {
        "id": "4wmyXJb-vswX"
      },
      "outputs": [],
      "source": [
        "import scipy.io\n",
        "Pavia_gt = scipy.io.loadmat('Pavia_gt.mat')\n",
        "Pavia = scipy.io.loadmat('Pavia.mat')\n",
        "PaviaU_gt = scipy.io.loadmat('PaviaU_gt.mat')\n",
        "PaviaU = scipy.io.loadmat('PaviaU.mat')"
      ]
    },
    {
      "cell_type": "code",
      "execution_count": null,
      "metadata": {
        "colab": {
          "base_uri": "https://localhost:8080/"
        },
        "id": "gTUTO34ybBRs",
        "outputId": "6d5c3f9d-1752-4991-e731-fff88a802baa"
      },
      "outputs": [
        {
          "output_type": "execute_result",
          "data": {
            "text/plain": [
              "(610, 340, 102)"
            ]
          },
          "metadata": {},
          "execution_count": 12
        }
      ],
      "source": [
        "PaviaU['paviaU']=numpy.delete(PaviaU['paviaU'], 102, 2)\n",
        "PaviaU['paviaU'].shape"
      ]
    },
    {
      "cell_type": "code",
      "execution_count": null,
      "metadata": {
        "id": "LbHciY-zzA3G"
      },
      "outputs": [],
      "source": [
        "# Normalize Database\n",
        "from sklearn import preprocessing\n",
        "import numpy as np\n",
        "\n",
        "min_max_scaler = preprocessing.MinMaxScaler()\n",
        "\n",
        "ascolumns_botswana = PaviaU['paviaU'].reshape(-1, num_channels)\n",
        "t_botswana = min_max_scaler.fit_transform(ascolumns_botswana)\n",
        "PaviaU['paviaU'] = t_botswana.reshape(PaviaU['paviaU'].shape)\n",
        "\n",
        "ascolumns_botswana = Pavia['pavia'].reshape(-1, num_channels)\n",
        "t_botswana = min_max_scaler.fit_transform(ascolumns_botswana)\n",
        "Pavia['pavia'] = t_botswana.reshape(Pavia['pavia'].shape)\n",
        "\n"
      ]
    },
    {
      "cell_type": "code",
      "execution_count": null,
      "metadata": {
        "colab": {
          "base_uri": "https://localhost:8080/"
        },
        "id": "-xrjIHy9wM9A",
        "outputId": "ca793f8e-278d-4682-929d-b65ef92e5124"
      },
      "outputs": [
        {
          "output_type": "execute_result",
          "data": {
            "text/plain": [
              "0"
            ]
          },
          "metadata": {},
          "execution_count": 14
        }
      ],
      "source": [
        "source_gt=PaviaU_gt['paviaU_gt']\n",
        "source_data=PaviaU['paviaU']\n",
        "\n",
        "target_gt=Pavia_gt['pavia_gt']\n",
        "target_data=Pavia['pavia']\n",
        "\n",
        "del PaviaU\n",
        "del Pavia\n",
        "del ascolumns_botswana\n",
        "del t_botswana\n",
        "gc.collect()"
      ]
    },
    {
      "cell_type": "markdown",
      "metadata": {
        "id": "YfIIQtuG8Xuj"
      },
      "source": [
        "**Common Labels:**\n",
        "\n",
        "1-Asphalt\n",
        "\n",
        "2-Meadows\n",
        "\n",
        "3-Shadows\n",
        "\n",
        "4- Trees\n",
        "\n",
        "5-Self-Blocking Bricks\n",
        "\n",
        "6-Bare Soil\n",
        "\n",
        "7-Bitumen"
      ]
    },
    {
      "cell_type": "code",
      "execution_count": null,
      "metadata": {
        "id": "Dqfb_M0C22ub"
      },
      "outputs": [],
      "source": [
        "# remove uncommon labels\n",
        "import numpy as np\n",
        "\n",
        "source_gt=source_gt*10\n",
        "\n",
        "result=np.where(source_gt == 10)\n",
        "source_gt[result]=1\n",
        "\n",
        "result=np.where(source_gt == 20)\n",
        "source_gt[result]=2\n",
        "\n",
        "result=np.where(source_gt == 30)\n",
        "source_gt[result]=100\n",
        "\n",
        "result=np.where(source_gt == 40)\n",
        "source_gt[result]=4\n",
        "\n",
        "result=np.where(source_gt == 50)\n",
        "source_gt[result]=100\n",
        "\n",
        "result=np.where(source_gt == 60)\n",
        "source_gt[result]=6\n",
        "\n",
        "result=np.where(source_gt == 70)\n",
        "source_gt[result]=7\n",
        "\n",
        "result=np.where(source_gt == 80)\n",
        "source_gt[result]=5\n",
        "\n",
        "result=np.where(source_gt == 90)\n",
        "source_gt[result]=3\n"
      ]
    },
    {
      "cell_type": "code",
      "execution_count": null,
      "metadata": {
        "id": "0GbpO5mB_WI4"
      },
      "outputs": [],
      "source": [
        "target_gt=target_gt*10\n",
        "\n",
        "result=np.where(target_gt == 10)\n",
        "target_gt[result]=100\n",
        "\n",
        "result=np.where(target_gt == 20)\n",
        "target_gt[result]=4\n",
        "\n",
        "result=np.where(target_gt == 30)\n",
        "target_gt[result]=1\n",
        "\n",
        "result=np.where(target_gt == 40)\n",
        "target_gt[result]=5\n",
        "\n",
        "result=np.where(target_gt == 50)\n",
        "target_gt[result]=7\n",
        "\n",
        "result=np.where(target_gt == 60)\n",
        "target_gt[result]=100\n",
        "\n",
        "result=np.where(target_gt == 70)\n",
        "target_gt[result]=3\n",
        "\n",
        "result=np.where(target_gt == 80)\n",
        "target_gt[result]=2\n",
        "\n",
        "result=np.where(target_gt == 90)\n",
        "target_gt[result]=6"
      ]
    },
    {
      "cell_type": "code",
      "execution_count": null,
      "metadata": {
        "colab": {
          "base_uri": "https://localhost:8080/"
        },
        "id": "bnFu7nearnJL",
        "outputId": "5e23cca6-89f8-4d06-8026-a7b0996799f8"
      },
      "outputs": [
        {
          "output_type": "execute_result",
          "data": {
            "text/plain": [
              "0"
            ]
          },
          "metadata": {},
          "execution_count": 17
        }
      ],
      "source": [
        "# Zero Padding\n",
        "source_data=np.pad(source_data, ((8,8),(8,8),(0,0)), 'constant', constant_values= 0)\n",
        "source_gt=np.pad(source_gt, ((8,8),(8,8)), 'constant', constant_values= 0)\n",
        "\n",
        "target_data=np.pad(target_data, ((8,8),(8,8),(0,0)), 'constant', constant_values= 0)\n",
        "target_gt=np.pad(target_gt, ((8,8),(8,8)), 'constant', constant_values= 0)\n",
        "\n",
        "gc.collect()"
      ]
    },
    {
      "cell_type": "code",
      "execution_count": null,
      "metadata": {
        "colab": {
          "base_uri": "https://localhost:8080/"
        },
        "id": "5wxzxYDrBrtZ",
        "outputId": "94600806-b5c4-4142-999d-dd28ae900f61"
      },
      "outputs": [
        {
          "output_type": "execute_result",
          "data": {
            "text/plain": [
              "72933"
            ]
          },
          "metadata": {},
          "execution_count": 18
        }
      ],
      "source": [
        "a=target_gt[target_gt>0].size\n",
        "b=target_gt[target_gt==100].size\n",
        "a-b"
      ]
    },
    {
      "cell_type": "code",
      "execution_count": null,
      "metadata": {
        "colab": {
          "base_uri": "https://localhost:8080/"
        },
        "id": "yIUSsuViObBL",
        "outputId": "d95259ce-b730-4089-ffe6-f08a927ba546"
      },
      "outputs": [
        {
          "output_type": "execute_result",
          "data": {
            "text/plain": [
              "39332"
            ]
          },
          "metadata": {},
          "execution_count": 19
        }
      ],
      "source": [
        "a=source_gt[source_gt>0].size\n",
        "b=source_gt[source_gt==100].size\n",
        "a-b"
      ]
    },
    {
      "cell_type": "code",
      "execution_count": null,
      "metadata": {
        "id": "DYS-hQ_55oRL"
      },
      "outputs": [],
      "source": [
        "# Patch IDs\n",
        "\n",
        "source_ID=np.where(np.logical_and(source_gt <100 , source_gt!=0))\n",
        "source_ID_gt=source_gt[source_ID[0],source_ID[1]]\n",
        "source_ID_gt=source_ID_gt-1\n",
        "\n",
        "target_ID=np.where(np.logical_and(target_gt <100 , target_gt!=0))\n",
        "target_ID_gt=target_gt[target_ID[0],target_ID[1]]\n",
        "target_ID_gt=target_ID_gt-1\n",
        "\n",
        "unknown_ID=np.where(target_gt ==100)  #unknown patches\n",
        "\n"
      ]
    },
    {
      "cell_type": "code",
      "execution_count": null,
      "metadata": {
        "id": "LkruD-wg82K2"
      },
      "outputs": [],
      "source": [
        "# Shuffle Dataset\n",
        "\n",
        "from sklearn.utils import shuffle\n",
        "source_ID, source_ID_gt = shuffle(numpy.transpose(source_ID), source_ID_gt, random_state=42)\n",
        "target_ID, target_ID_gt = shuffle(numpy.transpose(target_ID), target_ID_gt, random_state=42)\n",
        "\n"
      ]
    },
    {
      "cell_type": "code",
      "execution_count": null,
      "metadata": {
        "colab": {
          "base_uri": "https://localhost:8080/"
        },
        "id": "9szza8Zo-_Nx",
        "outputId": "537d66e1-1d85-47cd-e0d2-c6d41b44282a"
      },
      "outputs": [
        {
          "output_type": "stream",
          "name": "stdout",
          "text": [
            "Source TRAIN: [ 4867 28708 16667 ... 10646 11786 15027] Source TEST: [  385 12203 30258 ... 29025 32094  3620]\n",
            "Target TRAIN: [68569 52829 16025 ...  9436 27177 30809] Target TEST: [37607 39544 26691 ... 57498 28602 44981]\n"
          ]
        }
      ],
      "source": [
        "# Stratified Test/Train Splitting:\n",
        "\n",
        "import numpy as np\n",
        "from sklearn.model_selection import StratifiedShuffleSplit\n",
        "\n",
        "stratSplit = StratifiedShuffleSplit(n_splits=1, test_size=0.1, random_state=42)\n",
        "stratSplit.get_n_splits(source_ID, source_ID_gt)\n",
        "for train_index, test_index in stratSplit.split(source_ID, source_ID_gt):\n",
        "  print(\"Source TRAIN:\", train_index, \"Source TEST:\", test_index)\n",
        "  source_trainPatches_ID, source_testPatches_ID = source_ID[train_index], source_ID[test_index]\n",
        "  source_trainPatches_ID_gt, source_testPatches_ID_gt = source_ID_gt[train_index], source_ID_gt[test_index]\n",
        "\n",
        "stratSplit = StratifiedShuffleSplit(n_splits=1, test_size=0.1, random_state=42)\n",
        "stratSplit.get_n_splits(target_ID, target_ID_gt)\n",
        "for train_index, test_index in stratSplit.split(target_ID, target_ID_gt):\n",
        "  print(\"Target TRAIN:\", train_index, \"Target TEST:\", test_index)\n",
        "  target_trainPatches_ID, target_testPatches_ID = target_ID[train_index], target_ID[test_index]\n",
        "  target_trainPatches_ID_gt, target_testPatches_ID_gt = target_ID_gt[train_index], target_ID_gt[test_index]\n",
        "\n",
        "#target_ID=numpy.transpose(target_ID)\n",
        "#source_ID=numpy.transpose(source_ID)\n"
      ]
    },
    {
      "cell_type": "code",
      "execution_count": null,
      "metadata": {
        "id": "2WQRPUs5g1yo"
      },
      "outputs": [],
      "source": [
        "# Create a dictionary for labels\n",
        "source_trainPatches_gt_dict=dict()\n",
        "for i,labelvalue in enumerate(source_trainPatches_ID_gt):\n",
        "  source_trainPatches_gt_dict[source_trainPatches_ID[i][0],source_trainPatches_ID[i][1]]=labelvalue\n",
        "\n",
        "\n",
        "source_testPatches_gt_dict=dict()\n",
        "for i,labelvalue in enumerate(source_testPatches_ID_gt):\n",
        "  source_testPatches_gt_dict[source_testPatches_ID[i][0],source_testPatches_ID[i][1]]=labelvalue\n",
        "\n",
        "\n",
        "target_trainPatches_gt_dict=dict()\n",
        "for i,labelvalue in enumerate(target_trainPatches_ID_gt):\n",
        "  target_trainPatches_gt_dict[target_trainPatches_ID[i][0],target_trainPatches_ID[i][1]]=labelvalue\n",
        "\n",
        "\n",
        "target_gt_dict=dict()\n",
        "for i,labelvalue in enumerate(target_ID_gt):\n",
        "  target_gt_dict[target_ID[i][0],target_ID[i][1]]=labelvalue\n",
        "\n",
        "\n",
        "source_gt_dict=dict()\n",
        "for i,labelvalue in enumerate(source_ID_gt):\n",
        "  source_gt_dict[source_ID[i][0],source_ID[i][1]]=labelvalue"
      ]
    },
    {
      "cell_type": "markdown",
      "metadata": {
        "id": "1QGmRBTIKgCy"
      },
      "source": [
        "**Set the random seed for Python, Numpy and Tensorflow**"
      ]
    },
    {
      "cell_type": "code",
      "execution_count": null,
      "metadata": {
        "id": "GdfSDBekl-JK"
      },
      "outputs": [],
      "source": [
        "from numpy.random import seed\n",
        "import random\n",
        "seed(123)\n",
        "PYTHONHASHSEED=124\n",
        "random.seed(125)\n",
        "tensorflow.random.set_seed(126)"
      ]
    },
    {
      "cell_type": "markdown",
      "metadata": {
        "id": "G753HBlzjrm0"
      },
      "source": [
        "**The only conv layer:**\n",
        "\n",
        "\n",
        "\n",
        "\n",
        "\n",
        "\n"
      ]
    },
    {
      "cell_type": "code",
      "execution_count": null,
      "metadata": {
        "colab": {
          "base_uri": "https://localhost:8080/"
        },
        "id": "D7AeCgFsU8iQ",
        "outputId": "3549781f-bc9c-4db4-b07a-5e981dbb573b"
      },
      "outputs": [
        {
          "output_type": "stream",
          "name": "stdout",
          "text": [
            "Model: \"conv_model\"\n",
            "__________________________________________________________________________________________________\n",
            " Layer (type)                Output Shape                 Param #   Connected to                  \n",
            "==================================================================================================\n",
            " source/target_input (Input  [(None, 17, 17, 102)]        0         []                            \n",
            " Layer)                                                                                           \n",
            "                                                                                                  \n",
            " tf.__operators__.getitem (  (None, 17, 17)               0         ['source/target_input[0][0]'] \n",
            " SlicingOpLambda)                                                                                 \n",
            "                                                                                                  \n",
            " tf.__operators__.getitem_1  (None, 17, 17)               0         ['source/target_input[0][0]'] \n",
            "  (SlicingOpLambda)                                                                               \n",
            "                                                                                                  \n",
            " tf.__operators__.getitem_2  (None, 17, 17)               0         ['source/target_input[0][0]'] \n",
            "  (SlicingOpLambda)                                                                               \n",
            "                                                                                                  \n",
            " tf.__operators__.getitem_3  (None, 17, 17)               0         ['source/target_input[0][0]'] \n",
            "  (SlicingOpLambda)                                                                               \n",
            "                                                                                                  \n",
            " tf.__operators__.getitem_4  (None, 17, 17)               0         ['source/target_input[0][0]'] \n",
            "  (SlicingOpLambda)                                                                               \n",
            "                                                                                                  \n",
            " tf.__operators__.getitem_5  (None, 17, 17)               0         ['source/target_input[0][0]'] \n",
            "  (SlicingOpLambda)                                                                               \n",
            "                                                                                                  \n",
            " tf.__operators__.getitem_6  (None, 17, 17)               0         ['source/target_input[0][0]'] \n",
            "  (SlicingOpLambda)                                                                               \n",
            "                                                                                                  \n",
            " tf.__operators__.getitem_7  (None, 17, 17)               0         ['source/target_input[0][0]'] \n",
            "  (SlicingOpLambda)                                                                               \n",
            "                                                                                                  \n",
            " tf.__operators__.getitem_8  (None, 17, 17)               0         ['source/target_input[0][0]'] \n",
            "  (SlicingOpLambda)                                                                               \n",
            "                                                                                                  \n",
            " tf.__operators__.getitem_9  (None, 17, 17)               0         ['source/target_input[0][0]'] \n",
            "  (SlicingOpLambda)                                                                               \n",
            "                                                                                                  \n",
            " tf.__operators__.getitem_1  (None, 17, 17)               0         ['source/target_input[0][0]'] \n",
            " 0 (SlicingOpLambda)                                                                              \n",
            "                                                                                                  \n",
            " tf.__operators__.getitem_1  (None, 17, 17)               0         ['source/target_input[0][0]'] \n",
            " 1 (SlicingOpLambda)                                                                              \n",
            "                                                                                                  \n",
            " tf.__operators__.getitem_1  (None, 17, 17)               0         ['source/target_input[0][0]'] \n",
            " 2 (SlicingOpLambda)                                                                              \n",
            "                                                                                                  \n",
            " tf.__operators__.getitem_1  (None, 17, 17)               0         ['source/target_input[0][0]'] \n",
            " 3 (SlicingOpLambda)                                                                              \n",
            "                                                                                                  \n",
            " tf.__operators__.getitem_1  (None, 17, 17)               0         ['source/target_input[0][0]'] \n",
            " 4 (SlicingOpLambda)                                                                              \n",
            "                                                                                                  \n",
            " tf.__operators__.getitem_1  (None, 17, 17)               0         ['source/target_input[0][0]'] \n",
            " 5 (SlicingOpLambda)                                                                              \n",
            "                                                                                                  \n",
            " tf.__operators__.getitem_1  (None, 17, 17)               0         ['source/target_input[0][0]'] \n",
            " 6 (SlicingOpLambda)                                                                              \n",
            "                                                                                                  \n",
            " tf.__operators__.getitem_1  (None, 17, 17)               0         ['source/target_input[0][0]'] \n",
            " 7 (SlicingOpLambda)                                                                              \n",
            "                                                                                                  \n",
            " tf.__operators__.getitem_1  (None, 17, 17)               0         ['source/target_input[0][0]'] \n",
            " 8 (SlicingOpLambda)                                                                              \n",
            "                                                                                                  \n",
            " tf.__operators__.getitem_1  (None, 17, 17)               0         ['source/target_input[0][0]'] \n",
            " 9 (SlicingOpLambda)                                                                              \n",
            "                                                                                                  \n",
            " tf.__operators__.getitem_2  (None, 17, 17)               0         ['source/target_input[0][0]'] \n",
            " 0 (SlicingOpLambda)                                                                              \n",
            "                                                                                                  \n",
            " tf.__operators__.getitem_2  (None, 17, 17)               0         ['source/target_input[0][0]'] \n",
            " 1 (SlicingOpLambda)                                                                              \n",
            "                                                                                                  \n",
            " tf.__operators__.getitem_2  (None, 17, 17)               0         ['source/target_input[0][0]'] \n",
            " 2 (SlicingOpLambda)                                                                              \n",
            "                                                                                                  \n",
            " tf.__operators__.getitem_2  (None, 17, 17)               0         ['source/target_input[0][0]'] \n",
            " 3 (SlicingOpLambda)                                                                              \n",
            "                                                                                                  \n",
            " tf.__operators__.getitem_2  (None, 17, 17)               0         ['source/target_input[0][0]'] \n",
            " 4 (SlicingOpLambda)                                                                              \n",
            "                                                                                                  \n",
            " tf.__operators__.getitem_2  (None, 17, 17)               0         ['source/target_input[0][0]'] \n",
            " 5 (SlicingOpLambda)                                                                              \n",
            "                                                                                                  \n",
            " tf.__operators__.getitem_2  (None, 17, 17)               0         ['source/target_input[0][0]'] \n",
            " 6 (SlicingOpLambda)                                                                              \n",
            "                                                                                                  \n",
            " tf.__operators__.getitem_2  (None, 17, 17)               0         ['source/target_input[0][0]'] \n",
            " 7 (SlicingOpLambda)                                                                              \n",
            "                                                                                                  \n",
            " tf.__operators__.getitem_2  (None, 17, 17)               0         ['source/target_input[0][0]'] \n",
            " 8 (SlicingOpLambda)                                                                              \n",
            "                                                                                                  \n",
            " tf.__operators__.getitem_2  (None, 17, 17)               0         ['source/target_input[0][0]'] \n",
            " 9 (SlicingOpLambda)                                                                              \n",
            "                                                                                                  \n",
            " tf.__operators__.getitem_3  (None, 17, 17)               0         ['source/target_input[0][0]'] \n",
            " 0 (SlicingOpLambda)                                                                              \n",
            "                                                                                                  \n",
            " tf.__operators__.getitem_3  (None, 17, 17)               0         ['source/target_input[0][0]'] \n",
            " 1 (SlicingOpLambda)                                                                              \n",
            "                                                                                                  \n",
            " tf.__operators__.getitem_3  (None, 17, 17)               0         ['source/target_input[0][0]'] \n",
            " 2 (SlicingOpLambda)                                                                              \n",
            "                                                                                                  \n",
            " tf.__operators__.getitem_3  (None, 17, 17)               0         ['source/target_input[0][0]'] \n",
            " 3 (SlicingOpLambda)                                                                              \n",
            "                                                                                                  \n",
            " tf.__operators__.getitem_3  (None, 17, 17)               0         ['source/target_input[0][0]'] \n",
            " 4 (SlicingOpLambda)                                                                              \n",
            "                                                                                                  \n",
            " tf.__operators__.getitem_3  (None, 17, 17)               0         ['source/target_input[0][0]'] \n",
            " 5 (SlicingOpLambda)                                                                              \n",
            "                                                                                                  \n",
            " tf.__operators__.getitem_3  (None, 17, 17)               0         ['source/target_input[0][0]'] \n",
            " 6 (SlicingOpLambda)                                                                              \n",
            "                                                                                                  \n",
            " tf.__operators__.getitem_3  (None, 17, 17)               0         ['source/target_input[0][0]'] \n",
            " 7 (SlicingOpLambda)                                                                              \n",
            "                                                                                                  \n",
            " tf.__operators__.getitem_3  (None, 17, 17)               0         ['source/target_input[0][0]'] \n",
            " 8 (SlicingOpLambda)                                                                              \n",
            "                                                                                                  \n",
            " tf.__operators__.getitem_3  (None, 17, 17)               0         ['source/target_input[0][0]'] \n",
            " 9 (SlicingOpLambda)                                                                              \n",
            "                                                                                                  \n",
            " tf.__operators__.getitem_4  (None, 17, 17)               0         ['source/target_input[0][0]'] \n",
            " 0 (SlicingOpLambda)                                                                              \n",
            "                                                                                                  \n",
            " tf.__operators__.getitem_4  (None, 17, 17)               0         ['source/target_input[0][0]'] \n",
            " 1 (SlicingOpLambda)                                                                              \n",
            "                                                                                                  \n",
            " tf.__operators__.getitem_4  (None, 17, 17)               0         ['source/target_input[0][0]'] \n",
            " 2 (SlicingOpLambda)                                                                              \n",
            "                                                                                                  \n",
            " tf.__operators__.getitem_4  (None, 17, 17)               0         ['source/target_input[0][0]'] \n",
            " 3 (SlicingOpLambda)                                                                              \n",
            "                                                                                                  \n",
            " tf.__operators__.getitem_4  (None, 17, 17)               0         ['source/target_input[0][0]'] \n",
            " 4 (SlicingOpLambda)                                                                              \n",
            "                                                                                                  \n",
            " tf.__operators__.getitem_4  (None, 17, 17)               0         ['source/target_input[0][0]'] \n",
            " 5 (SlicingOpLambda)                                                                              \n",
            "                                                                                                  \n",
            " tf.__operators__.getitem_4  (None, 17, 17)               0         ['source/target_input[0][0]'] \n",
            " 6 (SlicingOpLambda)                                                                              \n",
            "                                                                                                  \n",
            " tf.__operators__.getitem_4  (None, 17, 17)               0         ['source/target_input[0][0]'] \n",
            " 7 (SlicingOpLambda)                                                                              \n",
            "                                                                                                  \n",
            " tf.__operators__.getitem_4  (None, 17, 17)               0         ['source/target_input[0][0]'] \n",
            " 8 (SlicingOpLambda)                                                                              \n",
            "                                                                                                  \n",
            " tf.__operators__.getitem_4  (None, 17, 17)               0         ['source/target_input[0][0]'] \n",
            " 9 (SlicingOpLambda)                                                                              \n",
            "                                                                                                  \n",
            " tf.__operators__.getitem_5  (None, 17, 17)               0         ['source/target_input[0][0]'] \n",
            " 0 (SlicingOpLambda)                                                                              \n",
            "                                                                                                  \n",
            " tf.__operators__.getitem_5  (None, 17, 17)               0         ['source/target_input[0][0]'] \n",
            " 1 (SlicingOpLambda)                                                                              \n",
            "                                                                                                  \n",
            " tf.__operators__.getitem_5  (None, 17, 17)               0         ['source/target_input[0][0]'] \n",
            " 2 (SlicingOpLambda)                                                                              \n",
            "                                                                                                  \n",
            " tf.__operators__.getitem_5  (None, 17, 17)               0         ['source/target_input[0][0]'] \n",
            " 3 (SlicingOpLambda)                                                                              \n",
            "                                                                                                  \n",
            " tf.__operators__.getitem_5  (None, 17, 17)               0         ['source/target_input[0][0]'] \n",
            " 4 (SlicingOpLambda)                                                                              \n",
            "                                                                                                  \n",
            " tf.__operators__.getitem_5  (None, 17, 17)               0         ['source/target_input[0][0]'] \n",
            " 5 (SlicingOpLambda)                                                                              \n",
            "                                                                                                  \n",
            " tf.__operators__.getitem_5  (None, 17, 17)               0         ['source/target_input[0][0]'] \n",
            " 6 (SlicingOpLambda)                                                                              \n",
            "                                                                                                  \n",
            " tf.__operators__.getitem_5  (None, 17, 17)               0         ['source/target_input[0][0]'] \n",
            " 7 (SlicingOpLambda)                                                                              \n",
            "                                                                                                  \n",
            " tf.__operators__.getitem_5  (None, 17, 17)               0         ['source/target_input[0][0]'] \n",
            " 8 (SlicingOpLambda)                                                                              \n",
            "                                                                                                  \n",
            " tf.__operators__.getitem_5  (None, 17, 17)               0         ['source/target_input[0][0]'] \n",
            " 9 (SlicingOpLambda)                                                                              \n",
            "                                                                                                  \n",
            " tf.__operators__.getitem_6  (None, 17, 17)               0         ['source/target_input[0][0]'] \n",
            " 0 (SlicingOpLambda)                                                                              \n",
            "                                                                                                  \n",
            " tf.__operators__.getitem_6  (None, 17, 17)               0         ['source/target_input[0][0]'] \n",
            " 1 (SlicingOpLambda)                                                                              \n",
            "                                                                                                  \n",
            " tf.__operators__.getitem_6  (None, 17, 17)               0         ['source/target_input[0][0]'] \n",
            " 2 (SlicingOpLambda)                                                                              \n",
            "                                                                                                  \n",
            " tf.__operators__.getitem_6  (None, 17, 17)               0         ['source/target_input[0][0]'] \n",
            " 3 (SlicingOpLambda)                                                                              \n",
            "                                                                                                  \n",
            " tf.__operators__.getitem_6  (None, 17, 17)               0         ['source/target_input[0][0]'] \n",
            " 4 (SlicingOpLambda)                                                                              \n",
            "                                                                                                  \n",
            " tf.__operators__.getitem_6  (None, 17, 17)               0         ['source/target_input[0][0]'] \n",
            " 5 (SlicingOpLambda)                                                                              \n",
            "                                                                                                  \n",
            " tf.__operators__.getitem_6  (None, 17, 17)               0         ['source/target_input[0][0]'] \n",
            " 6 (SlicingOpLambda)                                                                              \n",
            "                                                                                                  \n",
            " tf.__operators__.getitem_6  (None, 17, 17)               0         ['source/target_input[0][0]'] \n",
            " 7 (SlicingOpLambda)                                                                              \n",
            "                                                                                                  \n",
            " tf.__operators__.getitem_6  (None, 17, 17)               0         ['source/target_input[0][0]'] \n",
            " 8 (SlicingOpLambda)                                                                              \n",
            "                                                                                                  \n",
            " tf.__operators__.getitem_6  (None, 17, 17)               0         ['source/target_input[0][0]'] \n",
            " 9 (SlicingOpLambda)                                                                              \n",
            "                                                                                                  \n",
            " tf.__operators__.getitem_7  (None, 17, 17)               0         ['source/target_input[0][0]'] \n",
            " 0 (SlicingOpLambda)                                                                              \n",
            "                                                                                                  \n",
            " tf.__operators__.getitem_7  (None, 17, 17)               0         ['source/target_input[0][0]'] \n",
            " 1 (SlicingOpLambda)                                                                              \n",
            "                                                                                                  \n",
            " tf.__operators__.getitem_7  (None, 17, 17)               0         ['source/target_input[0][0]'] \n",
            " 2 (SlicingOpLambda)                                                                              \n",
            "                                                                                                  \n",
            " tf.__operators__.getitem_7  (None, 17, 17)               0         ['source/target_input[0][0]'] \n",
            " 3 (SlicingOpLambda)                                                                              \n",
            "                                                                                                  \n",
            " tf.__operators__.getitem_7  (None, 17, 17)               0         ['source/target_input[0][0]'] \n",
            " 4 (SlicingOpLambda)                                                                              \n",
            "                                                                                                  \n",
            " tf.__operators__.getitem_7  (None, 17, 17)               0         ['source/target_input[0][0]'] \n",
            " 5 (SlicingOpLambda)                                                                              \n",
            "                                                                                                  \n",
            " tf.__operators__.getitem_7  (None, 17, 17)               0         ['source/target_input[0][0]'] \n",
            " 6 (SlicingOpLambda)                                                                              \n",
            "                                                                                                  \n",
            " tf.__operators__.getitem_7  (None, 17, 17)               0         ['source/target_input[0][0]'] \n",
            " 7 (SlicingOpLambda)                                                                              \n",
            "                                                                                                  \n",
            " tf.__operators__.getitem_7  (None, 17, 17)               0         ['source/target_input[0][0]'] \n",
            " 8 (SlicingOpLambda)                                                                              \n",
            "                                                                                                  \n",
            " tf.__operators__.getitem_7  (None, 17, 17)               0         ['source/target_input[0][0]'] \n",
            " 9 (SlicingOpLambda)                                                                              \n",
            "                                                                                                  \n",
            " tf.__operators__.getitem_8  (None, 17, 17)               0         ['source/target_input[0][0]'] \n",
            " 0 (SlicingOpLambda)                                                                              \n",
            "                                                                                                  \n",
            " tf.__operators__.getitem_8  (None, 17, 17)               0         ['source/target_input[0][0]'] \n",
            " 1 (SlicingOpLambda)                                                                              \n",
            "                                                                                                  \n",
            " tf.__operators__.getitem_8  (None, 17, 17)               0         ['source/target_input[0][0]'] \n",
            " 2 (SlicingOpLambda)                                                                              \n",
            "                                                                                                  \n",
            " tf.__operators__.getitem_8  (None, 17, 17)               0         ['source/target_input[0][0]'] \n",
            " 3 (SlicingOpLambda)                                                                              \n",
            "                                                                                                  \n",
            " tf.__operators__.getitem_8  (None, 17, 17)               0         ['source/target_input[0][0]'] \n",
            " 4 (SlicingOpLambda)                                                                              \n",
            "                                                                                                  \n",
            " tf.__operators__.getitem_8  (None, 17, 17)               0         ['source/target_input[0][0]'] \n",
            " 5 (SlicingOpLambda)                                                                              \n",
            "                                                                                                  \n",
            " tf.__operators__.getitem_8  (None, 17, 17)               0         ['source/target_input[0][0]'] \n",
            " 6 (SlicingOpLambda)                                                                              \n",
            "                                                                                                  \n",
            " tf.__operators__.getitem_8  (None, 17, 17)               0         ['source/target_input[0][0]'] \n",
            " 7 (SlicingOpLambda)                                                                              \n",
            "                                                                                                  \n",
            " tf.__operators__.getitem_8  (None, 17, 17)               0         ['source/target_input[0][0]'] \n",
            " 8 (SlicingOpLambda)                                                                              \n",
            "                                                                                                  \n",
            " tf.__operators__.getitem_8  (None, 17, 17)               0         ['source/target_input[0][0]'] \n",
            " 9 (SlicingOpLambda)                                                                              \n",
            "                                                                                                  \n",
            " tf.__operators__.getitem_9  (None, 17, 17)               0         ['source/target_input[0][0]'] \n",
            " 0 (SlicingOpLambda)                                                                              \n",
            "                                                                                                  \n",
            " tf.__operators__.getitem_9  (None, 17, 17)               0         ['source/target_input[0][0]'] \n",
            " 1 (SlicingOpLambda)                                                                              \n",
            "                                                                                                  \n",
            " tf.__operators__.getitem_9  (None, 17, 17)               0         ['source/target_input[0][0]'] \n",
            " 2 (SlicingOpLambda)                                                                              \n",
            "                                                                                                  \n",
            " tf.__operators__.getitem_9  (None, 17, 17)               0         ['source/target_input[0][0]'] \n",
            " 3 (SlicingOpLambda)                                                                              \n",
            "                                                                                                  \n",
            " tf.__operators__.getitem_9  (None, 17, 17)               0         ['source/target_input[0][0]'] \n",
            " 4 (SlicingOpLambda)                                                                              \n",
            "                                                                                                  \n",
            " tf.__operators__.getitem_9  (None, 17, 17)               0         ['source/target_input[0][0]'] \n",
            " 5 (SlicingOpLambda)                                                                              \n",
            "                                                                                                  \n",
            " tf.__operators__.getitem_9  (None, 17, 17)               0         ['source/target_input[0][0]'] \n",
            " 6 (SlicingOpLambda)                                                                              \n",
            "                                                                                                  \n",
            " tf.__operators__.getitem_9  (None, 17, 17)               0         ['source/target_input[0][0]'] \n",
            " 7 (SlicingOpLambda)                                                                              \n",
            "                                                                                                  \n",
            " tf.__operators__.getitem_9  (None, 17, 17)               0         ['source/target_input[0][0]'] \n",
            " 8 (SlicingOpLambda)                                                                              \n",
            "                                                                                                  \n",
            " tf.__operators__.getitem_9  (None, 17, 17)               0         ['source/target_input[0][0]'] \n",
            " 9 (SlicingOpLambda)                                                                              \n",
            "                                                                                                  \n",
            " tf.__operators__.getitem_1  (None, 17, 17)               0         ['source/target_input[0][0]'] \n",
            " 00 (SlicingOpLambda)                                                                             \n",
            "                                                                                                  \n",
            " tf.__operators__.getitem_1  (None, 17, 17)               0         ['source/target_input[0][0]'] \n",
            " 01 (SlicingOpLambda)                                                                             \n",
            "                                                                                                  \n",
            " reshape (Reshape)           (None, 17, 17, 1)            0         ['tf.__operators__.getitem[0][\n",
            "                                                                    0]']                          \n",
            "                                                                                                  \n",
            " reshape_1 (Reshape)         (None, 17, 17, 1)            0         ['tf.__operators__.getitem_1[0\n",
            "                                                                    ][0]']                        \n",
            "                                                                                                  \n",
            " reshape_2 (Reshape)         (None, 17, 17, 1)            0         ['tf.__operators__.getitem_2[0\n",
            "                                                                    ][0]']                        \n",
            "                                                                                                  \n",
            " reshape_3 (Reshape)         (None, 17, 17, 1)            0         ['tf.__operators__.getitem_3[0\n",
            "                                                                    ][0]']                        \n",
            "                                                                                                  \n",
            " reshape_4 (Reshape)         (None, 17, 17, 1)            0         ['tf.__operators__.getitem_4[0\n",
            "                                                                    ][0]']                        \n",
            "                                                                                                  \n",
            " reshape_5 (Reshape)         (None, 17, 17, 1)            0         ['tf.__operators__.getitem_5[0\n",
            "                                                                    ][0]']                        \n",
            "                                                                                                  \n",
            " reshape_6 (Reshape)         (None, 17, 17, 1)            0         ['tf.__operators__.getitem_6[0\n",
            "                                                                    ][0]']                        \n",
            "                                                                                                  \n",
            " reshape_7 (Reshape)         (None, 17, 17, 1)            0         ['tf.__operators__.getitem_7[0\n",
            "                                                                    ][0]']                        \n",
            "                                                                                                  \n",
            " reshape_8 (Reshape)         (None, 17, 17, 1)            0         ['tf.__operators__.getitem_8[0\n",
            "                                                                    ][0]']                        \n",
            "                                                                                                  \n",
            " reshape_9 (Reshape)         (None, 17, 17, 1)            0         ['tf.__operators__.getitem_9[0\n",
            "                                                                    ][0]']                        \n",
            "                                                                                                  \n",
            " reshape_10 (Reshape)        (None, 17, 17, 1)            0         ['tf.__operators__.getitem_10[\n",
            "                                                                    0][0]']                       \n",
            "                                                                                                  \n",
            " reshape_11 (Reshape)        (None, 17, 17, 1)            0         ['tf.__operators__.getitem_11[\n",
            "                                                                    0][0]']                       \n",
            "                                                                                                  \n",
            " reshape_12 (Reshape)        (None, 17, 17, 1)            0         ['tf.__operators__.getitem_12[\n",
            "                                                                    0][0]']                       \n",
            "                                                                                                  \n",
            " reshape_13 (Reshape)        (None, 17, 17, 1)            0         ['tf.__operators__.getitem_13[\n",
            "                                                                    0][0]']                       \n",
            "                                                                                                  \n",
            " reshape_14 (Reshape)        (None, 17, 17, 1)            0         ['tf.__operators__.getitem_14[\n",
            "                                                                    0][0]']                       \n",
            "                                                                                                  \n",
            " reshape_15 (Reshape)        (None, 17, 17, 1)            0         ['tf.__operators__.getitem_15[\n",
            "                                                                    0][0]']                       \n",
            "                                                                                                  \n",
            " reshape_16 (Reshape)        (None, 17, 17, 1)            0         ['tf.__operators__.getitem_16[\n",
            "                                                                    0][0]']                       \n",
            "                                                                                                  \n",
            " reshape_17 (Reshape)        (None, 17, 17, 1)            0         ['tf.__operators__.getitem_17[\n",
            "                                                                    0][0]']                       \n",
            "                                                                                                  \n",
            " reshape_18 (Reshape)        (None, 17, 17, 1)            0         ['tf.__operators__.getitem_18[\n",
            "                                                                    0][0]']                       \n",
            "                                                                                                  \n",
            " reshape_19 (Reshape)        (None, 17, 17, 1)            0         ['tf.__operators__.getitem_19[\n",
            "                                                                    0][0]']                       \n",
            "                                                                                                  \n",
            " reshape_20 (Reshape)        (None, 17, 17, 1)            0         ['tf.__operators__.getitem_20[\n",
            "                                                                    0][0]']                       \n",
            "                                                                                                  \n",
            " reshape_21 (Reshape)        (None, 17, 17, 1)            0         ['tf.__operators__.getitem_21[\n",
            "                                                                    0][0]']                       \n",
            "                                                                                                  \n",
            " reshape_22 (Reshape)        (None, 17, 17, 1)            0         ['tf.__operators__.getitem_22[\n",
            "                                                                    0][0]']                       \n",
            "                                                                                                  \n",
            " reshape_23 (Reshape)        (None, 17, 17, 1)            0         ['tf.__operators__.getitem_23[\n",
            "                                                                    0][0]']                       \n",
            "                                                                                                  \n",
            " reshape_24 (Reshape)        (None, 17, 17, 1)            0         ['tf.__operators__.getitem_24[\n",
            "                                                                    0][0]']                       \n",
            "                                                                                                  \n",
            " reshape_25 (Reshape)        (None, 17, 17, 1)            0         ['tf.__operators__.getitem_25[\n",
            "                                                                    0][0]']                       \n",
            "                                                                                                  \n",
            " reshape_26 (Reshape)        (None, 17, 17, 1)            0         ['tf.__operators__.getitem_26[\n",
            "                                                                    0][0]']                       \n",
            "                                                                                                  \n",
            " reshape_27 (Reshape)        (None, 17, 17, 1)            0         ['tf.__operators__.getitem_27[\n",
            "                                                                    0][0]']                       \n",
            "                                                                                                  \n",
            " reshape_28 (Reshape)        (None, 17, 17, 1)            0         ['tf.__operators__.getitem_28[\n",
            "                                                                    0][0]']                       \n",
            "                                                                                                  \n",
            " reshape_29 (Reshape)        (None, 17, 17, 1)            0         ['tf.__operators__.getitem_29[\n",
            "                                                                    0][0]']                       \n",
            "                                                                                                  \n",
            " reshape_30 (Reshape)        (None, 17, 17, 1)            0         ['tf.__operators__.getitem_30[\n",
            "                                                                    0][0]']                       \n",
            "                                                                                                  \n",
            " reshape_31 (Reshape)        (None, 17, 17, 1)            0         ['tf.__operators__.getitem_31[\n",
            "                                                                    0][0]']                       \n",
            "                                                                                                  \n",
            " reshape_32 (Reshape)        (None, 17, 17, 1)            0         ['tf.__operators__.getitem_32[\n",
            "                                                                    0][0]']                       \n",
            "                                                                                                  \n",
            " reshape_33 (Reshape)        (None, 17, 17, 1)            0         ['tf.__operators__.getitem_33[\n",
            "                                                                    0][0]']                       \n",
            "                                                                                                  \n",
            " reshape_34 (Reshape)        (None, 17, 17, 1)            0         ['tf.__operators__.getitem_34[\n",
            "                                                                    0][0]']                       \n",
            "                                                                                                  \n",
            " reshape_35 (Reshape)        (None, 17, 17, 1)            0         ['tf.__operators__.getitem_35[\n",
            "                                                                    0][0]']                       \n",
            "                                                                                                  \n",
            " reshape_36 (Reshape)        (None, 17, 17, 1)            0         ['tf.__operators__.getitem_36[\n",
            "                                                                    0][0]']                       \n",
            "                                                                                                  \n",
            " reshape_37 (Reshape)        (None, 17, 17, 1)            0         ['tf.__operators__.getitem_37[\n",
            "                                                                    0][0]']                       \n",
            "                                                                                                  \n",
            " reshape_38 (Reshape)        (None, 17, 17, 1)            0         ['tf.__operators__.getitem_38[\n",
            "                                                                    0][0]']                       \n",
            "                                                                                                  \n",
            " reshape_39 (Reshape)        (None, 17, 17, 1)            0         ['tf.__operators__.getitem_39[\n",
            "                                                                    0][0]']                       \n",
            "                                                                                                  \n",
            " reshape_40 (Reshape)        (None, 17, 17, 1)            0         ['tf.__operators__.getitem_40[\n",
            "                                                                    0][0]']                       \n",
            "                                                                                                  \n",
            " reshape_41 (Reshape)        (None, 17, 17, 1)            0         ['tf.__operators__.getitem_41[\n",
            "                                                                    0][0]']                       \n",
            "                                                                                                  \n",
            " reshape_42 (Reshape)        (None, 17, 17, 1)            0         ['tf.__operators__.getitem_42[\n",
            "                                                                    0][0]']                       \n",
            "                                                                                                  \n",
            " reshape_43 (Reshape)        (None, 17, 17, 1)            0         ['tf.__operators__.getitem_43[\n",
            "                                                                    0][0]']                       \n",
            "                                                                                                  \n",
            " reshape_44 (Reshape)        (None, 17, 17, 1)            0         ['tf.__operators__.getitem_44[\n",
            "                                                                    0][0]']                       \n",
            "                                                                                                  \n",
            " reshape_45 (Reshape)        (None, 17, 17, 1)            0         ['tf.__operators__.getitem_45[\n",
            "                                                                    0][0]']                       \n",
            "                                                                                                  \n",
            " reshape_46 (Reshape)        (None, 17, 17, 1)            0         ['tf.__operators__.getitem_46[\n",
            "                                                                    0][0]']                       \n",
            "                                                                                                  \n",
            " reshape_47 (Reshape)        (None, 17, 17, 1)            0         ['tf.__operators__.getitem_47[\n",
            "                                                                    0][0]']                       \n",
            "                                                                                                  \n",
            " reshape_48 (Reshape)        (None, 17, 17, 1)            0         ['tf.__operators__.getitem_48[\n",
            "                                                                    0][0]']                       \n",
            "                                                                                                  \n",
            " reshape_49 (Reshape)        (None, 17, 17, 1)            0         ['tf.__operators__.getitem_49[\n",
            "                                                                    0][0]']                       \n",
            "                                                                                                  \n",
            " reshape_50 (Reshape)        (None, 17, 17, 1)            0         ['tf.__operators__.getitem_50[\n",
            "                                                                    0][0]']                       \n",
            "                                                                                                  \n",
            " reshape_51 (Reshape)        (None, 17, 17, 1)            0         ['tf.__operators__.getitem_51[\n",
            "                                                                    0][0]']                       \n",
            "                                                                                                  \n",
            " reshape_52 (Reshape)        (None, 17, 17, 1)            0         ['tf.__operators__.getitem_52[\n",
            "                                                                    0][0]']                       \n",
            "                                                                                                  \n",
            " reshape_53 (Reshape)        (None, 17, 17, 1)            0         ['tf.__operators__.getitem_53[\n",
            "                                                                    0][0]']                       \n",
            "                                                                                                  \n",
            " reshape_54 (Reshape)        (None, 17, 17, 1)            0         ['tf.__operators__.getitem_54[\n",
            "                                                                    0][0]']                       \n",
            "                                                                                                  \n",
            " reshape_55 (Reshape)        (None, 17, 17, 1)            0         ['tf.__operators__.getitem_55[\n",
            "                                                                    0][0]']                       \n",
            "                                                                                                  \n",
            " reshape_56 (Reshape)        (None, 17, 17, 1)            0         ['tf.__operators__.getitem_56[\n",
            "                                                                    0][0]']                       \n",
            "                                                                                                  \n",
            " reshape_57 (Reshape)        (None, 17, 17, 1)            0         ['tf.__operators__.getitem_57[\n",
            "                                                                    0][0]']                       \n",
            "                                                                                                  \n",
            " reshape_58 (Reshape)        (None, 17, 17, 1)            0         ['tf.__operators__.getitem_58[\n",
            "                                                                    0][0]']                       \n",
            "                                                                                                  \n",
            " reshape_59 (Reshape)        (None, 17, 17, 1)            0         ['tf.__operators__.getitem_59[\n",
            "                                                                    0][0]']                       \n",
            "                                                                                                  \n",
            " reshape_60 (Reshape)        (None, 17, 17, 1)            0         ['tf.__operators__.getitem_60[\n",
            "                                                                    0][0]']                       \n",
            "                                                                                                  \n",
            " reshape_61 (Reshape)        (None, 17, 17, 1)            0         ['tf.__operators__.getitem_61[\n",
            "                                                                    0][0]']                       \n",
            "                                                                                                  \n",
            " reshape_62 (Reshape)        (None, 17, 17, 1)            0         ['tf.__operators__.getitem_62[\n",
            "                                                                    0][0]']                       \n",
            "                                                                                                  \n",
            " reshape_63 (Reshape)        (None, 17, 17, 1)            0         ['tf.__operators__.getitem_63[\n",
            "                                                                    0][0]']                       \n",
            "                                                                                                  \n",
            " reshape_64 (Reshape)        (None, 17, 17, 1)            0         ['tf.__operators__.getitem_64[\n",
            "                                                                    0][0]']                       \n",
            "                                                                                                  \n",
            " reshape_65 (Reshape)        (None, 17, 17, 1)            0         ['tf.__operators__.getitem_65[\n",
            "                                                                    0][0]']                       \n",
            "                                                                                                  \n",
            " reshape_66 (Reshape)        (None, 17, 17, 1)            0         ['tf.__operators__.getitem_66[\n",
            "                                                                    0][0]']                       \n",
            "                                                                                                  \n",
            " reshape_67 (Reshape)        (None, 17, 17, 1)            0         ['tf.__operators__.getitem_67[\n",
            "                                                                    0][0]']                       \n",
            "                                                                                                  \n",
            " reshape_68 (Reshape)        (None, 17, 17, 1)            0         ['tf.__operators__.getitem_68[\n",
            "                                                                    0][0]']                       \n",
            "                                                                                                  \n",
            " reshape_69 (Reshape)        (None, 17, 17, 1)            0         ['tf.__operators__.getitem_69[\n",
            "                                                                    0][0]']                       \n",
            "                                                                                                  \n",
            " reshape_70 (Reshape)        (None, 17, 17, 1)            0         ['tf.__operators__.getitem_70[\n",
            "                                                                    0][0]']                       \n",
            "                                                                                                  \n",
            " reshape_71 (Reshape)        (None, 17, 17, 1)            0         ['tf.__operators__.getitem_71[\n",
            "                                                                    0][0]']                       \n",
            "                                                                                                  \n",
            " reshape_72 (Reshape)        (None, 17, 17, 1)            0         ['tf.__operators__.getitem_72[\n",
            "                                                                    0][0]']                       \n",
            "                                                                                                  \n",
            " reshape_73 (Reshape)        (None, 17, 17, 1)            0         ['tf.__operators__.getitem_73[\n",
            "                                                                    0][0]']                       \n",
            "                                                                                                  \n",
            " reshape_74 (Reshape)        (None, 17, 17, 1)            0         ['tf.__operators__.getitem_74[\n",
            "                                                                    0][0]']                       \n",
            "                                                                                                  \n",
            " reshape_75 (Reshape)        (None, 17, 17, 1)            0         ['tf.__operators__.getitem_75[\n",
            "                                                                    0][0]']                       \n",
            "                                                                                                  \n",
            " reshape_76 (Reshape)        (None, 17, 17, 1)            0         ['tf.__operators__.getitem_76[\n",
            "                                                                    0][0]']                       \n",
            "                                                                                                  \n",
            " reshape_77 (Reshape)        (None, 17, 17, 1)            0         ['tf.__operators__.getitem_77[\n",
            "                                                                    0][0]']                       \n",
            "                                                                                                  \n",
            " reshape_78 (Reshape)        (None, 17, 17, 1)            0         ['tf.__operators__.getitem_78[\n",
            "                                                                    0][0]']                       \n",
            "                                                                                                  \n",
            " reshape_79 (Reshape)        (None, 17, 17, 1)            0         ['tf.__operators__.getitem_79[\n",
            "                                                                    0][0]']                       \n",
            "                                                                                                  \n",
            " reshape_80 (Reshape)        (None, 17, 17, 1)            0         ['tf.__operators__.getitem_80[\n",
            "                                                                    0][0]']                       \n",
            "                                                                                                  \n",
            " reshape_81 (Reshape)        (None, 17, 17, 1)            0         ['tf.__operators__.getitem_81[\n",
            "                                                                    0][0]']                       \n",
            "                                                                                                  \n",
            " reshape_82 (Reshape)        (None, 17, 17, 1)            0         ['tf.__operators__.getitem_82[\n",
            "                                                                    0][0]']                       \n",
            "                                                                                                  \n",
            " reshape_83 (Reshape)        (None, 17, 17, 1)            0         ['tf.__operators__.getitem_83[\n",
            "                                                                    0][0]']                       \n",
            "                                                                                                  \n",
            " reshape_84 (Reshape)        (None, 17, 17, 1)            0         ['tf.__operators__.getitem_84[\n",
            "                                                                    0][0]']                       \n",
            "                                                                                                  \n",
            " reshape_85 (Reshape)        (None, 17, 17, 1)            0         ['tf.__operators__.getitem_85[\n",
            "                                                                    0][0]']                       \n",
            "                                                                                                  \n",
            " reshape_86 (Reshape)        (None, 17, 17, 1)            0         ['tf.__operators__.getitem_86[\n",
            "                                                                    0][0]']                       \n",
            "                                                                                                  \n",
            " reshape_87 (Reshape)        (None, 17, 17, 1)            0         ['tf.__operators__.getitem_87[\n",
            "                                                                    0][0]']                       \n",
            "                                                                                                  \n",
            " reshape_88 (Reshape)        (None, 17, 17, 1)            0         ['tf.__operators__.getitem_88[\n",
            "                                                                    0][0]']                       \n",
            "                                                                                                  \n",
            " reshape_89 (Reshape)        (None, 17, 17, 1)            0         ['tf.__operators__.getitem_89[\n",
            "                                                                    0][0]']                       \n",
            "                                                                                                  \n",
            " reshape_90 (Reshape)        (None, 17, 17, 1)            0         ['tf.__operators__.getitem_90[\n",
            "                                                                    0][0]']                       \n",
            "                                                                                                  \n",
            " reshape_91 (Reshape)        (None, 17, 17, 1)            0         ['tf.__operators__.getitem_91[\n",
            "                                                                    0][0]']                       \n",
            "                                                                                                  \n",
            " reshape_92 (Reshape)        (None, 17, 17, 1)            0         ['tf.__operators__.getitem_92[\n",
            "                                                                    0][0]']                       \n",
            "                                                                                                  \n",
            " reshape_93 (Reshape)        (None, 17, 17, 1)            0         ['tf.__operators__.getitem_93[\n",
            "                                                                    0][0]']                       \n",
            "                                                                                                  \n",
            " reshape_94 (Reshape)        (None, 17, 17, 1)            0         ['tf.__operators__.getitem_94[\n",
            "                                                                    0][0]']                       \n",
            "                                                                                                  \n",
            " reshape_95 (Reshape)        (None, 17, 17, 1)            0         ['tf.__operators__.getitem_95[\n",
            "                                                                    0][0]']                       \n",
            "                                                                                                  \n",
            " reshape_96 (Reshape)        (None, 17, 17, 1)            0         ['tf.__operators__.getitem_96[\n",
            "                                                                    0][0]']                       \n",
            "                                                                                                  \n",
            " reshape_97 (Reshape)        (None, 17, 17, 1)            0         ['tf.__operators__.getitem_97[\n",
            "                                                                    0][0]']                       \n",
            "                                                                                                  \n",
            " reshape_98 (Reshape)        (None, 17, 17, 1)            0         ['tf.__operators__.getitem_98[\n",
            "                                                                    0][0]']                       \n",
            "                                                                                                  \n",
            " reshape_99 (Reshape)        (None, 17, 17, 1)            0         ['tf.__operators__.getitem_99[\n",
            "                                                                    0][0]']                       \n",
            "                                                                                                  \n",
            " reshape_100 (Reshape)       (None, 17, 17, 1)            0         ['tf.__operators__.getitem_100\n",
            "                                                                    [0][0]']                      \n",
            "                                                                                                  \n",
            " reshape_101 (Reshape)       (None, 17, 17, 1)            0         ['tf.__operators__.getitem_101\n",
            "                                                                    [0][0]']                      \n",
            "                                                                                                  \n",
            " conv2d_per_channel (Conv2D  (None, 1, 1, 1)              290       ['reshape[0][0]',             \n",
            " )                                                                   'reshape_1[0][0]',           \n",
            "                                                                     'reshape_2[0][0]',           \n",
            "                                                                     'reshape_3[0][0]',           \n",
            "                                                                     'reshape_4[0][0]',           \n",
            "                                                                     'reshape_5[0][0]',           \n",
            "                                                                     'reshape_6[0][0]',           \n",
            "                                                                     'reshape_7[0][0]',           \n",
            "                                                                     'reshape_8[0][0]',           \n",
            "                                                                     'reshape_9[0][0]',           \n",
            "                                                                     'reshape_10[0][0]',          \n",
            "                                                                     'reshape_11[0][0]',          \n",
            "                                                                     'reshape_12[0][0]',          \n",
            "                                                                     'reshape_13[0][0]',          \n",
            "                                                                     'reshape_14[0][0]',          \n",
            "                                                                     'reshape_15[0][0]',          \n",
            "                                                                     'reshape_16[0][0]',          \n",
            "                                                                     'reshape_17[0][0]',          \n",
            "                                                                     'reshape_18[0][0]',          \n",
            "                                                                     'reshape_19[0][0]',          \n",
            "                                                                     'reshape_20[0][0]',          \n",
            "                                                                     'reshape_21[0][0]',          \n",
            "                                                                     'reshape_22[0][0]',          \n",
            "                                                                     'reshape_23[0][0]',          \n",
            "                                                                     'reshape_24[0][0]',          \n",
            "                                                                     'reshape_25[0][0]',          \n",
            "                                                                     'reshape_26[0][0]',          \n",
            "                                                                     'reshape_27[0][0]',          \n",
            "                                                                     'reshape_28[0][0]',          \n",
            "                                                                     'reshape_29[0][0]',          \n",
            "                                                                     'reshape_30[0][0]',          \n",
            "                                                                     'reshape_31[0][0]',          \n",
            "                                                                     'reshape_32[0][0]',          \n",
            "                                                                     'reshape_33[0][0]',          \n",
            "                                                                     'reshape_34[0][0]',          \n",
            "                                                                     'reshape_35[0][0]',          \n",
            "                                                                     'reshape_36[0][0]',          \n",
            "                                                                     'reshape_37[0][0]',          \n",
            "                                                                     'reshape_38[0][0]',          \n",
            "                                                                     'reshape_39[0][0]',          \n",
            "                                                                     'reshape_40[0][0]',          \n",
            "                                                                     'reshape_41[0][0]',          \n",
            "                                                                     'reshape_42[0][0]',          \n",
            "                                                                     'reshape_43[0][0]',          \n",
            "                                                                     'reshape_44[0][0]',          \n",
            "                                                                     'reshape_45[0][0]',          \n",
            "                                                                     'reshape_46[0][0]',          \n",
            "                                                                     'reshape_47[0][0]',          \n",
            "                                                                     'reshape_48[0][0]',          \n",
            "                                                                     'reshape_49[0][0]',          \n",
            "                                                                     'reshape_50[0][0]',          \n",
            "                                                                     'reshape_51[0][0]',          \n",
            "                                                                     'reshape_52[0][0]',          \n",
            "                                                                     'reshape_53[0][0]',          \n",
            "                                                                     'reshape_54[0][0]',          \n",
            "                                                                     'reshape_55[0][0]',          \n",
            "                                                                     'reshape_56[0][0]',          \n",
            "                                                                     'reshape_57[0][0]',          \n",
            "                                                                     'reshape_58[0][0]',          \n",
            "                                                                     'reshape_59[0][0]',          \n",
            "                                                                     'reshape_60[0][0]',          \n",
            "                                                                     'reshape_61[0][0]',          \n",
            "                                                                     'reshape_62[0][0]',          \n",
            "                                                                     'reshape_63[0][0]',          \n",
            "                                                                     'reshape_64[0][0]',          \n",
            "                                                                     'reshape_65[0][0]',          \n",
            "                                                                     'reshape_66[0][0]',          \n",
            "                                                                     'reshape_67[0][0]',          \n",
            "                                                                     'reshape_68[0][0]',          \n",
            "                                                                     'reshape_69[0][0]',          \n",
            "                                                                     'reshape_70[0][0]',          \n",
            "                                                                     'reshape_71[0][0]',          \n",
            "                                                                     'reshape_72[0][0]',          \n",
            "                                                                     'reshape_73[0][0]',          \n",
            "                                                                     'reshape_74[0][0]',          \n",
            "                                                                     'reshape_75[0][0]',          \n",
            "                                                                     'reshape_76[0][0]',          \n",
            "                                                                     'reshape_77[0][0]',          \n",
            "                                                                     'reshape_78[0][0]',          \n",
            "                                                                     'reshape_79[0][0]',          \n",
            "                                                                     'reshape_80[0][0]',          \n",
            "                                                                     'reshape_81[0][0]',          \n",
            "                                                                     'reshape_82[0][0]',          \n",
            "                                                                     'reshape_83[0][0]',          \n",
            "                                                                     'reshape_84[0][0]',          \n",
            "                                                                     'reshape_85[0][0]',          \n",
            "                                                                     'reshape_86[0][0]',          \n",
            "                                                                     'reshape_87[0][0]',          \n",
            "                                                                     'reshape_88[0][0]',          \n",
            "                                                                     'reshape_89[0][0]',          \n",
            "                                                                     'reshape_90[0][0]',          \n",
            "                                                                     'reshape_91[0][0]',          \n",
            "                                                                     'reshape_92[0][0]',          \n",
            "                                                                     'reshape_93[0][0]',          \n",
            "                                                                     'reshape_94[0][0]',          \n",
            "                                                                     'reshape_95[0][0]',          \n",
            "                                                                     'reshape_96[0][0]',          \n",
            "                                                                     'reshape_97[0][0]',          \n",
            "                                                                     'reshape_98[0][0]',          \n",
            "                                                                     'reshape_99[0][0]',          \n",
            "                                                                     'reshape_100[0][0]',         \n",
            "                                                                     'reshape_101[0][0]']         \n",
            "                                                                                                  \n",
            " concatenate (Concatenate)   (None, 1, 1, 102)            0         ['conv2d_per_channel[0][0]',  \n",
            "                                                                     'conv2d_per_channel[1][0]',  \n",
            "                                                                     'conv2d_per_channel[2][0]',  \n",
            "                                                                     'conv2d_per_channel[3][0]',  \n",
            "                                                                     'conv2d_per_channel[4][0]',  \n",
            "                                                                     'conv2d_per_channel[5][0]',  \n",
            "                                                                     'conv2d_per_channel[6][0]',  \n",
            "                                                                     'conv2d_per_channel[7][0]',  \n",
            "                                                                     'conv2d_per_channel[8][0]',  \n",
            "                                                                     'conv2d_per_channel[9][0]',  \n",
            "                                                                     'conv2d_per_channel[10][0]', \n",
            "                                                                     'conv2d_per_channel[11][0]', \n",
            "                                                                     'conv2d_per_channel[12][0]', \n",
            "                                                                     'conv2d_per_channel[13][0]', \n",
            "                                                                     'conv2d_per_channel[14][0]', \n",
            "                                                                     'conv2d_per_channel[15][0]', \n",
            "                                                                     'conv2d_per_channel[16][0]', \n",
            "                                                                     'conv2d_per_channel[17][0]', \n",
            "                                                                     'conv2d_per_channel[18][0]', \n",
            "                                                                     'conv2d_per_channel[19][0]', \n",
            "                                                                     'conv2d_per_channel[20][0]', \n",
            "                                                                     'conv2d_per_channel[21][0]', \n",
            "                                                                     'conv2d_per_channel[22][0]', \n",
            "                                                                     'conv2d_per_channel[23][0]', \n",
            "                                                                     'conv2d_per_channel[24][0]', \n",
            "                                                                     'conv2d_per_channel[25][0]', \n",
            "                                                                     'conv2d_per_channel[26][0]', \n",
            "                                                                     'conv2d_per_channel[27][0]', \n",
            "                                                                     'conv2d_per_channel[28][0]', \n",
            "                                                                     'conv2d_per_channel[29][0]', \n",
            "                                                                     'conv2d_per_channel[30][0]', \n",
            "                                                                     'conv2d_per_channel[31][0]', \n",
            "                                                                     'conv2d_per_channel[32][0]', \n",
            "                                                                     'conv2d_per_channel[33][0]', \n",
            "                                                                     'conv2d_per_channel[34][0]', \n",
            "                                                                     'conv2d_per_channel[35][0]', \n",
            "                                                                     'conv2d_per_channel[36][0]', \n",
            "                                                                     'conv2d_per_channel[37][0]', \n",
            "                                                                     'conv2d_per_channel[38][0]', \n",
            "                                                                     'conv2d_per_channel[39][0]', \n",
            "                                                                     'conv2d_per_channel[40][0]', \n",
            "                                                                     'conv2d_per_channel[41][0]', \n",
            "                                                                     'conv2d_per_channel[42][0]', \n",
            "                                                                     'conv2d_per_channel[43][0]', \n",
            "                                                                     'conv2d_per_channel[44][0]', \n",
            "                                                                     'conv2d_per_channel[45][0]', \n",
            "                                                                     'conv2d_per_channel[46][0]', \n",
            "                                                                     'conv2d_per_channel[47][0]', \n",
            "                                                                     'conv2d_per_channel[48][0]', \n",
            "                                                                     'conv2d_per_channel[49][0]', \n",
            "                                                                     'conv2d_per_channel[50][0]', \n",
            "                                                                     'conv2d_per_channel[51][0]', \n",
            "                                                                     'conv2d_per_channel[52][0]', \n",
            "                                                                     'conv2d_per_channel[53][0]', \n",
            "                                                                     'conv2d_per_channel[54][0]', \n",
            "                                                                     'conv2d_per_channel[55][0]', \n",
            "                                                                     'conv2d_per_channel[56][0]', \n",
            "                                                                     'conv2d_per_channel[57][0]', \n",
            "                                                                     'conv2d_per_channel[58][0]', \n",
            "                                                                     'conv2d_per_channel[59][0]', \n",
            "                                                                     'conv2d_per_channel[60][0]', \n",
            "                                                                     'conv2d_per_channel[61][0]', \n",
            "                                                                     'conv2d_per_channel[62][0]', \n",
            "                                                                     'conv2d_per_channel[63][0]', \n",
            "                                                                     'conv2d_per_channel[64][0]', \n",
            "                                                                     'conv2d_per_channel[65][0]', \n",
            "                                                                     'conv2d_per_channel[66][0]', \n",
            "                                                                     'conv2d_per_channel[67][0]', \n",
            "                                                                     'conv2d_per_channel[68][0]', \n",
            "                                                                     'conv2d_per_channel[69][0]', \n",
            "                                                                     'conv2d_per_channel[70][0]', \n",
            "                                                                     'conv2d_per_channel[71][0]', \n",
            "                                                                     'conv2d_per_channel[72][0]', \n",
            "                                                                     'conv2d_per_channel[73][0]', \n",
            "                                                                     'conv2d_per_channel[74][0]', \n",
            "                                                                     'conv2d_per_channel[75][0]', \n",
            "                                                                     'conv2d_per_channel[76][0]', \n",
            "                                                                     'conv2d_per_channel[77][0]', \n",
            "                                                                     'conv2d_per_channel[78][0]', \n",
            "                                                                     'conv2d_per_channel[79][0]', \n",
            "                                                                     'conv2d_per_channel[80][0]', \n",
            "                                                                     'conv2d_per_channel[81][0]', \n",
            "                                                                     'conv2d_per_channel[82][0]', \n",
            "                                                                     'conv2d_per_channel[83][0]', \n",
            "                                                                     'conv2d_per_channel[84][0]', \n",
            "                                                                     'conv2d_per_channel[85][0]', \n",
            "                                                                     'conv2d_per_channel[86][0]', \n",
            "                                                                     'conv2d_per_channel[87][0]', \n",
            "                                                                     'conv2d_per_channel[88][0]', \n",
            "                                                                     'conv2d_per_channel[89][0]', \n",
            "                                                                     'conv2d_per_channel[90][0]', \n",
            "                                                                     'conv2d_per_channel[91][0]', \n",
            "                                                                     'conv2d_per_channel[92][0]', \n",
            "                                                                     'conv2d_per_channel[93][0]', \n",
            "                                                                     'conv2d_per_channel[94][0]', \n",
            "                                                                     'conv2d_per_channel[95][0]', \n",
            "                                                                     'conv2d_per_channel[96][0]', \n",
            "                                                                     'conv2d_per_channel[97][0]', \n",
            "                                                                     'conv2d_per_channel[98][0]', \n",
            "                                                                     'conv2d_per_channel[99][0]', \n",
            "                                                                     'conv2d_per_channel[100][0]',\n",
            "                                                                     'conv2d_per_channel[101][0]']\n",
            "                                                                                                  \n",
            " reshape_102 (Reshape)       (None, 102)                  0         ['concatenate[0][0]']         \n",
            "                                                                                                  \n",
            " layer_normalization (Layer  (None, 102)                  204       ['reshape_102[0][0]']         \n",
            " Normalization)                                                                                   \n",
            "                                                                                                  \n",
            " tf.math.sigmoid (TFOpLambd  (None, 102)                  0         ['layer_normalization[0][0]'] \n",
            " a)                                                                                               \n",
            "                                                                                                  \n",
            "==================================================================================================\n",
            "Total params: 494 (1.93 KB)\n",
            "Trainable params: 494 (1.93 KB)\n",
            "Non-trainable params: 0 (0.00 Byte)\n",
            "__________________________________________________________________________________________________\n"
          ]
        }
      ],
      "source": [
        "# The only conv layer\n",
        "Ist = tensorflow.keras.layers.Input(shape=(img_size, img_size, num_channels),  name=\"source/target_input\")\n",
        "conv2d_per_channel = tensorflow.keras.layers.Conv2D(filters=1, kernel_size=(img_size,img_size), strides=1, name=\"conv2d_per_channel\")\n",
        "\n",
        "x_st=[]\n",
        "for i in range(num_channels):\n",
        "  temp=Ist[:,:,:,i]\n",
        "  temp2=tensorflow.keras.layers.Reshape((temp.shape[1], temp.shape[2], 1))(temp)\n",
        "  temp3=conv2d_per_channel(temp2)\n",
        "  x_st.append(temp3)\n",
        "\n",
        "x_st = tensorflow.keras.layers.Concatenate(axis=3)(x_st)\n",
        "x_st=tensorflow.keras.layers.Reshape([num_channels])(x_st)\n",
        "\n",
        "x_st= tensorflow.keras.layers.LayerNormalization(axis=1)(x_st)\n",
        "x_st=tensorflow.keras.activations.sigmoid(x_st)\n",
        "\n",
        "\n",
        "\n",
        "\n",
        "\n",
        "\n",
        "\n",
        "conv_model = tensorflow.keras.models.Model(Ist, x_st, name=\"conv_model\")\n",
        "\n",
        "# summarize  model\n",
        "conv_model.summary()\n",
        "# plot  model\n",
        "#plot_model(conv_model, to_file='conv_model_plot.png', show_shapes=True, show_layer_names=True)\n",
        "\n",
        "\n"
      ]
    },
    {
      "cell_type": "markdown",
      "metadata": {
        "id": "FIJzEDO1jwF3"
      },
      "source": [
        "**Encoder:**"
      ]
    },
    {
      "cell_type": "code",
      "execution_count": null,
      "metadata": {
        "colab": {
          "base_uri": "https://localhost:8080/",
          "height": 1000
        },
        "id": "m8Sgpqw-6HeG",
        "outputId": "14a13415-d8ff-4793-e462-422869165a6a"
      },
      "outputs": [
        {
          "output_type": "stream",
          "name": "stdout",
          "text": [
            "Model: \"encoder_final_model\"\n",
            "__________________________________________________________________________________________________\n",
            " Layer (type)                Output Shape                 Param #   Connected to                  \n",
            "==================================================================================================\n",
            " encoder_input (InputLayer)  [(None, 102)]                0         []                            \n",
            "                                                                                                  \n",
            " encoder_dense1 (Dense)      (None, 70)                   7210      ['encoder_input[0][0]']       \n",
            "                                                                                                  \n",
            " layer_normalization_1 (Lay  (None, 70)                   140       ['encoder_dense1[0][0]']      \n",
            " erNormalization)                                                                                 \n",
            "                                                                                                  \n",
            " encoder_dense2 (Dense)      (None, 30)                   2130      ['layer_normalization_1[0][0]'\n",
            "                                                                    ]                             \n",
            "                                                                                                  \n",
            " layer_normalization_2 (Lay  (None, 30)                   60        ['encoder_dense2[0][0]']      \n",
            " erNormalization)                                                                                 \n",
            "                                                                                                  \n",
            " encoder_mu (Dense)          (None, 25)                   775       ['layer_normalization_2[0][0]'\n",
            "                                                                    ]                             \n",
            "                                                                                                  \n",
            " encoder_rho (Dense)         (None, 25)                   775       ['layer_normalization_2[0][0]'\n",
            "                                                                    ]                             \n",
            "                                                                                                  \n",
            " encoder_output (Lambda)     (None, 25)                   0         ['encoder_mu[0][0]',          \n",
            "                                                                     'encoder_rho[0][0]']         \n",
            "                                                                                                  \n",
            "==================================================================================================\n",
            "Total params: 11090 (43.32 KB)\n",
            "Trainable params: 11090 (43.32 KB)\n",
            "Non-trainable params: 0 (0.00 Byte)\n",
            "__________________________________________________________________________________________________\n"
          ]
        },
        {
          "output_type": "execute_result",
          "data": {
            "image/png": "[encoded data removed]",
            "text/plain": [
              "<IPython.core.display.Image object>"
            ]
          },
          "metadata": {},
          "execution_count": 26
        }
      ],
      "source": [
        "# Encoder\n",
        "e_x = tensorflow.keras.layers.Input(shape=(num_channels), name=\"encoder_input\")\n",
        "\n",
        "\n",
        "encoder_dense1 = tensorflow.keras.layers.Dense(units=70,activation='tanh', name=\"encoder_dense1\")(e_x)\n",
        "encoder_dense1=tensorflow.keras.layers.LayerNormalization(axis=1)(encoder_dense1)\n",
        "encoder_dense2 = tensorflow.keras.layers.Dense(units=30,activation='tanh', name=\"encoder_dense2\")(encoder_dense1)\n",
        "encoder_dense2=tensorflow.keras.layers.LayerNormalization(axis=1)(encoder_dense2)\n",
        "\n",
        "encoder_mu = tensorflow.keras.layers.Dense(units=latent_space_dim, name=\"encoder_mu\")(encoder_dense2)\n",
        "encoder_rho = tensorflow.keras.layers.Dense(units=latent_space_dim, name=\"encoder_rho\")(encoder_dense2)\n",
        "\n",
        "\n",
        "def sampling_z_only(mu_rho):\n",
        "        mu,rho=mu_rho\n",
        "        sd=tensorflow.keras.backend.exp(rho/2);\n",
        "        z_sample = mu + sd * tensorflow.random.normal(shape=(latent_space_dim,))\n",
        "        return z_sample\n",
        "\n",
        "\n",
        "\n",
        "encoder_output = tensorflow.keras.layers.Lambda(sampling_z_only, name=\"encoder_output\")([encoder_mu, encoder_rho])\n",
        "\n",
        "\n",
        "encoder_mu_rho_model = tensorflow.keras.models.Model(e_x, (encoder_mu,encoder_rho), name=\"encoder_mu_rho_model\")\n",
        "encoder_final_model = tensorflow.keras.models.Model(e_x, encoder_output, name=\"encoder_final_model\")\n",
        "\n",
        "\n",
        "\n",
        "# summarize  model\n",
        "encoder_final_model.summary()\n",
        "# plot  model\n",
        "plot_model(encoder_final_model, to_file='encoder_plot.png', show_shapes=True, show_layer_names=True)"
      ]
    },
    {
      "cell_type": "markdown",
      "metadata": {
        "id": "HmnOHJPiuHKI"
      },
      "source": [
        "**Decoder:**"
      ]
    },
    {
      "cell_type": "code",
      "execution_count": null,
      "metadata": {
        "colab": {
          "base_uri": "https://localhost:8080/",
          "height": 1000
        },
        "id": "rORn2p2I6bP3",
        "outputId": "7914ddde-6e6c-4e7a-adf9-6e13107ee78e"
      },
      "outputs": [
        {
          "output_type": "stream",
          "name": "stdout",
          "text": [
            "Model: \"decoder_model\"\n",
            "_________________________________________________________________\n",
            " Layer (type)                Output Shape              Param #   \n",
            "=================================================================\n",
            " decoder_input (InputLayer)  [(None, 25)]              0         \n",
            "                                                                 \n",
            " decoder_dense1 (Dense)      (None, 30)                780       \n",
            "                                                                 \n",
            " layer_normalization_3 (Lay  (None, 30)                60        \n",
            " erNormalization)                                                \n",
            "                                                                 \n",
            " decoder_dense2 (Dense)      (None, 70)                2170      \n",
            "                                                                 \n",
            " layer_normalization_4 (Lay  (None, 70)                140       \n",
            " erNormalization)                                                \n",
            "                                                                 \n",
            " decoder_output (Dense)      (None, 102)               7242      \n",
            "                                                                 \n",
            " layer_normalization_5 (Lay  (None, 102)               204       \n",
            " erNormalization)                                                \n",
            "                                                                 \n",
            "=================================================================\n",
            "Total params: 10596 (41.39 KB)\n",
            "Trainable params: 10596 (41.39 KB)\n",
            "Non-trainable params: 0 (0.00 Byte)\n",
            "_________________________________________________________________\n"
          ]
        },
        {
          "output_type": "execute_result",
          "data": {
            "image/png": "[encoded data removed]",
            "text/plain": [
              "<IPython.core.display.Image object>"
            ]
          },
          "metadata": {},
          "execution_count": 27
        }
      ],
      "source": [
        "#decoder_input = r_s\n",
        "decoder_input = tensorflow.keras.layers.Input(shape=(latent_space_dim), name=\"decoder_input\")\n",
        "\n",
        "decoder_dense1 = tensorflow.keras.layers.Dense(units=30, activation='tanh', name=\"decoder_dense1\")(decoder_input)\n",
        "decoder_dense1=tensorflow.keras.layers.LayerNormalization(axis=1)(decoder_dense1)\n",
        "decoder_dense2 = tensorflow.keras.layers.Dense(units=70, activation='tanh', name=\"decoder_dense2\")(decoder_dense1)\n",
        "decoder_dense2=tensorflow.keras.layers.LayerNormalization(axis=1)(decoder_dense2)\n",
        "decoder_output = tensorflow.keras.layers.Dense(units=num_channels, name=\"decoder_output\")(decoder_dense2)\n",
        "decoder_output= tensorflow.keras.layers.LayerNormalization(axis=1)(decoder_output)\n",
        "decoder = tensorflow.keras.models.Model(decoder_input, decoder_output, name=\"decoder_model\")\n",
        "\n",
        "# summarize  model\n",
        "decoder.summary()\n",
        "# plot  model\n",
        "plot_model(decoder, to_file='decoder_plot.png', show_shapes=True, show_layer_names=True)\n"
      ]
    },
    {
      "cell_type": "markdown",
      "metadata": {
        "id": "6z-3TBYGYhVx"
      },
      "source": [
        "**Classifiers:**"
      ]
    },
    {
      "cell_type": "code",
      "execution_count": null,
      "metadata": {
        "colab": {
          "base_uri": "https://localhost:8080/",
          "height": 427
        },
        "id": "qRSFQJ7NtCKh",
        "outputId": "71523b61-05a9-4abf-984a-f2740d1ba52c"
      },
      "outputs": [
        {
          "output_type": "stream",
          "name": "stdout",
          "text": [
            "Model: \"c1_model\"\n",
            "_________________________________________________________________\n",
            " Layer (type)                Output Shape              Param #   \n",
            "=================================================================\n",
            " c1_input (InputLayer)       [(None, 25)]              0         \n",
            "                                                                 \n",
            " c1_output (Dense)           (None, 7)                 182       \n",
            "                                                                 \n",
            "=================================================================\n",
            "Total params: 182 (728.00 Byte)\n",
            "Trainable params: 182 (728.00 Byte)\n",
            "Non-trainable params: 0 (0.00 Byte)\n",
            "_________________________________________________________________\n"
          ]
        },
        {
          "output_type": "execute_result",
          "data": {
            "image/png": "[encoded data removed]",
            "text/plain": [
              "<IPython.core.display.Image object>"
            ]
          },
          "metadata": {},
          "execution_count": 28
        }
      ],
      "source": [
        "# Classifier1\n",
        "c1_input = tensorflow.keras.layers.Input(shape=(latent_space_dim), name=\"c1_input\")\n",
        "#c1_intermediate1 = tensorflow.keras.layers.Dense(units=50, activation='tanh', kernel_initializer='he_uniform', name=\"c1_intermediate1\")(c1_input)\n",
        "#c1_intermediate2 = tensorflow.keras.layers.Dense(units=25, activation='tanh', kernel_initializer='he_uniform', name=\"c1_intermediate2\")(c1_intermediate1)\n",
        "c1_output = tensorflow.keras.layers.Dense(units=num_classes, activation='softmax', name=\"c1_output\")(c1_input)\n",
        "\n",
        "c1 = tensorflow.keras.models.Model(c1_input, c1_output, name=\"c1_model\")\n",
        "\n",
        "# summarize  model\n",
        "c1.summary()\n",
        "# plot  model\n",
        "plot_model(c1, to_file='c1_plot.png', show_shapes=True, show_layer_names=True)"
      ]
    },
    {
      "cell_type": "code",
      "execution_count": null,
      "metadata": {
        "colab": {
          "base_uri": "https://localhost:8080/",
          "height": 427
        },
        "id": "oUVnqjKXahE1",
        "outputId": "d4209a9c-570d-4b6b-8fec-acc5f8730d5a"
      },
      "outputs": [
        {
          "output_type": "stream",
          "name": "stdout",
          "text": [
            "Model: \"c2_model\"\n",
            "_________________________________________________________________\n",
            " Layer (type)                Output Shape              Param #   \n",
            "=================================================================\n",
            " c2_input (InputLayer)       [(None, 25)]              0         \n",
            "                                                                 \n",
            " c2_output (Dense)           (None, 7)                 182       \n",
            "                                                                 \n",
            "=================================================================\n",
            "Total params: 182 (728.00 Byte)\n",
            "Trainable params: 182 (728.00 Byte)\n",
            "Non-trainable params: 0 (0.00 Byte)\n",
            "_________________________________________________________________\n"
          ]
        },
        {
          "output_type": "execute_result",
          "data": {
            "image/png": "[encoded data removed]",
            "text/plain": [
              "<IPython.core.display.Image object>"
            ]
          },
          "metadata": {},
          "execution_count": 29
        }
      ],
      "source": [
        "# Classifier2\n",
        "c2_input = tensorflow.keras.layers.Input(shape=(latent_space_dim), name=\"c2_input\")\n",
        "#c2_intermediate1 = tensorflow.keras.layers.Dense(units=50, activation='tanh', kernel_initializer='he_uniform', name=\"c2_intermediate1\")(c2_input)\n",
        "#c2_intermediate2 = tensorflow.keras.layers.Dense(units=25, activation='tanh', kernel_initializer='he_uniform', name=\"c2_intermediate2\")(c2_intermediate1)\n",
        "c2_output = tensorflow.keras.layers.Dense(units=num_classes, activation='softmax', name=\"c2_output\")(c2_input)\n",
        "\n",
        "c2 = tensorflow.keras.models.Model(c2_input, c2_output, name=\"c2_model\")\n",
        "\n",
        "# summarize  model\n",
        "c2.summary()\n",
        "# plot  model\n",
        "plot_model(c2, to_file='c2_plot.png', show_shapes=True, show_layer_names=True)"
      ]
    },
    {
      "cell_type": "markdown",
      "metadata": {
        "id": "Wh_bH8ArmyC2"
      },
      "source": [
        "**Step 1:**"
      ]
    },
    {
      "cell_type": "code",
      "execution_count": null,
      "metadata": {
        "id": "HUiSnPAnYD4D"
      },
      "outputs": [],
      "source": [
        "class step_1_model_class(tfk.Model):\n",
        "\n",
        "    def __init__(self, dim_z, kl_weight=1, LR_FACTOR=1, name=\"step_1_model\", **kwargs):\n",
        "        super(step_1_model_class, self).__init__(name=name, **kwargs)\n",
        "        self.dim_x = (img_size, img_size, num_channels)\n",
        "        self.dim_z = dim_z\n",
        "        self.encoder =   tensorflow.keras.models.Model(e_x, (encoder_mu,encoder_rho), name=\"encoder_mu_rho_model\")\n",
        "        self.decoder = tensorflow.keras.models.Model(decoder_input, decoder_output, name=\"decoder_model\")\n",
        "        self.conv_model = tensorflow.keras.models.Model(Ist, x_st, name=\"conv_model\")\n",
        "        self.c1_s = tensorflow.keras.models.Model(c1_input, c1_output, name=\"c1_model\")\n",
        "        self.c2_s = tensorflow.keras.models.Model(c2_input, c2_output, name=\"c2_model\")\n",
        "        self.kl_weight = kl_weight\n",
        "\n",
        "\n",
        "    def custom_sigmoid_cross_entropy_loss_with_logits(self,x_true, x_recons_logits): # Reconstruction loss In case of Bernoulli distribution assumption\n",
        "        raw_cross_entropy = tf.nn.sigmoid_cross_entropy_with_logits(\n",
        "                                            labels=x_true, logits=x_recons_logits)\n",
        "        neg_log_likelihood = tf.math.reduce_sum(raw_cross_entropy, axis=-1)\n",
        "\n",
        "        return tf.math.reduce_mean(neg_log_likelihood)\n",
        "\n",
        "    def vae_reconstruction_loss(self,y_true, y_predict):    # Reconstruction loss In case of Gaussian distribution assumption\n",
        "        reconstruction_loss_factor = 1/2\n",
        "        reconstruction_loss = tensorflow.keras.backend.mean(tensorflow.keras.backend.square(y_true-tf.sigmoid(y_predict)), axis=-1)\n",
        "        reconstruction_loss=tf.math.log(reconstruction_loss*2*math.pi)\n",
        "        return tensorflow.keras.backend.mean(reconstruction_loss_factor * reconstruction_loss)\n",
        "\n",
        "    def vae_kl_loss(self,encoder_mu, encoder_log_variance):\n",
        "        kl_loss = -0.5 * tensorflow.keras.backend.sum(1.0 + encoder_log_variance - tensorflow.keras.backend.square(encoder_mu) - tensorflow.keras.backend.exp(encoder_log_variance), axis=-1)\n",
        "        return tensorflow.keras.backend.mean(kl_loss)\n",
        "\n",
        "    def encode(self, x_input):\n",
        "        mu1,rho1 = self.encoder(x_input)\n",
        "        sd1=tensorflow.keras.backend.exp(rho1/2);\n",
        "        z_sample1 = mu1 + sd1 * tf.random.normal(shape=(self.dim_z,))\n",
        "        return z_sample1, mu1, rho1\n",
        "\n",
        "\n",
        "\n",
        "\n",
        "\n",
        "    def call(self, x_input):\n",
        "        conv_out=self.conv_model(x_input)\n",
        "        z_sample1, mu1, rho1 = self.encode(conv_out)\n",
        "        x_logits = self.decoder(z_sample1)\n",
        "        z1_s=self.c1_s(z_sample1)\n",
        "        z2_s=self.c2_s(z_sample1)\n",
        "        # Add Losses:\n",
        "        self.add_loss(LR_loss_factor*self.kl_weight * self.vae_kl_loss(mu1,rho1))\n",
        "        self.add_loss(LR_loss_factor*self.custom_sigmoid_cross_entropy_loss_with_logits(conv_out,x_logits))\n",
        "        #self.add_loss(LR_loss_factor*self.vae_reconstruction_loss(conv_out,x_logits2))\n",
        "        return z1_s,z2_s\n",
        "\n",
        "\n"
      ]
    },
    {
      "cell_type": "code",
      "execution_count": null,
      "metadata": {
        "id": "4x3famHWS7m6"
      },
      "outputs": [],
      "source": [
        "    conv_model.trainable = True\n",
        "    encoder_final_model.trainable = True\n",
        "    decoder.trainable = True\n",
        "    c1.trainable = True\n",
        "    c2.trainable = True"
      ]
    },
    {
      "cell_type": "code",
      "execution_count": null,
      "metadata": {
        "id": "GbdtwZcbcBrW"
      },
      "outputs": [],
      "source": [
        "Model_step1 = step_1_model_class(dim_z=latent_space_dim, kl_weight=beta)\n",
        "Model_step1.compile(optimizer=tensorflow.keras.optimizers.legacy.Adam(),\n",
        "            loss={'output_1':'categorical_crossentropy','output_2':'categorical_crossentropy'},metrics=[tf.keras.metrics.CategoricalAccuracy()])\n"
      ]
    },
    {
      "cell_type": "code",
      "execution_count": null,
      "metadata": {
        "id": "ck0Bnd_iFIrB"
      },
      "outputs": [],
      "source": [
        "# Generator Class\n",
        "\n",
        "import numpy as np\n",
        "import keras\n",
        "\n",
        "\n",
        "#class DataGenerator(keras.utils.all_utils.Sequence):\n",
        "class DataGenerator(keras.utils.Sequence):\n",
        "    'Generates data for Keras'\n",
        "    def __init__(self, dataname, list_IDs, labels, batch_size=32, dim=(17,17), n_channels=102,\n",
        "                 n_classes=7, shuffle=True):\n",
        "        'Initialization'\n",
        "        self.dim = dim\n",
        "        self.batch_size = batch_size\n",
        "        self.labels = labels\n",
        "        self.list_IDs = list_IDs\n",
        "        self.n_channels = n_channels\n",
        "        self.n_classes = n_classes\n",
        "        self.shuffle = shuffle\n",
        "        self.on_epoch_end()\n",
        "        self.dataname=dataname\n",
        "\n",
        "    def __len__(self):\n",
        "        'Denotes the number of batches per epoch'\n",
        "        return int(np.floor(len(self.list_IDs) / self.batch_size))\n",
        "\n",
        "    def __getitem__(self, index):\n",
        "        'Generate one batch of data'\n",
        "        # Generate indexes of the batch\n",
        "        indexes = self.indexes[index*self.batch_size:(index+1)*self.batch_size]\n",
        "\n",
        "        # Find list of IDs\n",
        "        list_IDs_temp = [self.list_IDs[k] for k in indexes]\n",
        "\n",
        "        # Generate data\n",
        "        X, y = self.__data_generation(list_IDs_temp)\n",
        "\n",
        "        return X, y\n",
        "\n",
        "    def on_epoch_end(self):\n",
        "        'Updates indexes after each epoch'\n",
        "        self.indexes = np.arange(len(self.list_IDs))\n",
        "        if self.shuffle == True:\n",
        "            np.random.shuffle(self.indexes)\n",
        "\n",
        "    def __data_generation(self, list_IDs_temp):\n",
        "        'Generates data containing batch_size samples' # X : (n_samples, *dim, n_channels)\n",
        "        # Initialization\n",
        "        X = np.empty((self.batch_size, *self.dim, self.n_channels))\n",
        "        y = np.empty((self.batch_size), dtype=int)\n",
        "\n",
        "        # Generate data\n",
        "        for i, ID in enumerate(list_IDs_temp):\n",
        "            # Store sample\n",
        "            X[i,] = self.dataname[ID[0]-8:ID[0]+9,ID[1]-8:ID[1]+9,:]\n",
        "\n",
        "            # Store class\n",
        "            y[i] = self.labels[ID[0],ID[1]]\n",
        "\n",
        "        return X, keras.utils.to_categorical(y, num_classes=self.n_classes)"
      ]
    },
    {
      "cell_type": "markdown",
      "metadata": {
        "id": "7rojBLmzqC4a"
      },
      "source": [
        "**Note:**` You can Skip running this snippet and uncomment and run the next snippet instead, in order to load already trained weights for step1:`"
      ]
    },
    {
      "cell_type": "code",
      "execution_count": null,
      "metadata": {
        "id": "93Qa_-7W8OwB"
      },
      "outputs": [],
      "source": [
        "# Start Training (Step 1):\n",
        "\n",
        "import numpy as np\n",
        "import multiprocessing\n",
        "# Parameters\n",
        "params = {'dim': (17,17),\n",
        "          'batch_size': 32,\n",
        "          'n_classes': 7,\n",
        "          'n_channels': 102,\n",
        "          'shuffle': True}\n",
        "# Generators\n",
        "training_generator = DataGenerator(source_data, source_trainPatches_ID, source_trainPatches_gt_dict, **params)\n",
        "validation_generator = DataGenerator(source_data, source_testPatches_ID, source_testPatches_gt_dict, **params)\n",
        "\n",
        "es = EarlyStopping(monitor='val_loss', mode='min', verbose=1, patience=40)\n",
        "mc = ModelCheckpoint('pavia_best_model1_chkp',save_best_only=True, save_weights_only=True, monitor='val_loss', mode='min', verbose=1)\n",
        "\n",
        "Model_step1.fit_generator(generator=training_generator,\n",
        "                    validation_data=validation_generator,\n",
        "                    use_multiprocessing=True,\n",
        "                    callbacks=[es,mc],\n",
        "                    epochs=5000,\n",
        "                    workers=multiprocessing.cpu_count())\n",
        "\n",
        "\n",
        "#Load the best saved checkpoint\n",
        "Model_step1.load_weights('pavia_best_model1_chkp')"
      ]
    },
    {
      "cell_type": "code",
      "execution_count": null,
      "metadata": {
        "id": "8zjDr5VS6YcJ"
      },
      "outputs": [],
      "source": [
        "# Uncomment these lines to load already trained weights for step 1:\n",
        "\n",
        "#import os\n",
        "\n",
        "#if(os.path.isfile('AlreadyLearnedWeights_pavia_step1.index')==False):\n",
        "#  !wget https://github.com/amirmah/OpenSet_CrossScene_HSI/raw/main/AlreadyLearnedWeights_pavia_step1.index\n",
        "\n",
        "#if(os.path.isfile('AlreadyLearnedWeights_pavia_step1.data-00000-of-00001')==False):\n",
        "#  !wget https://github.com/amirmah/OpenSet_CrossScene_HSI/raw/main/AlreadyLearnedWeights_pavia_step1.data-00000-of-00001\n",
        "\n",
        "#Model_step1.load_weights('AlreadyLearnedWeights_pavia_step1')\n",
        "#Model_step1.save_weights('pavia_best_model1_chkp')"
      ]
    },
    {
      "cell_type": "code",
      "execution_count": null,
      "metadata": {
        "id": "l78rV-8tSE3Y"
      },
      "outputs": [],
      "source": [
        "params = {'dim': (17,17),\n",
        "          'batch_size': 32,\n",
        "          'n_classes': 7,\n",
        "          'n_channels': 102,\n",
        "          'shuffle': True}\n"
      ]
    },
    {
      "cell_type": "code",
      "execution_count": null,
      "metadata": {
        "colab": {
          "base_uri": "https://localhost:8080/"
        },
        "id": "To7e4Mt-THiw",
        "outputId": "15a86c4c-ecb0-4ab3-d22b-9dd14c0dc9ca"
      },
      "outputs": [
        {
          "output_type": "stream",
          "name": "stderr",
          "text": [
            "<ipython-input-37-0bf1ba59b0ce>:3: UserWarning: `Model.evaluate_generator` is deprecated and will be removed in a future version. Please use `Model.evaluate`, which supports generators.\n",
            "  Model_step1.evaluate_generator(generator=target_generator)\n"
          ]
        },
        {
          "output_type": "execute_result",
          "data": {
            "text/plain": [
              "[12.743139266967773,\n",
              " 6.328968524932861,\n",
              " 6.333232402801514,\n",
              " 0.4706971347332001,\n",
              " 0.4710673689842224]"
            ]
          },
          "metadata": {},
          "execution_count": 37
        }
      ],
      "source": [
        "# Evaluate on Target\n",
        "target_generator = DataGenerator(target_data,target_ID, target_gt_dict, **params)\n",
        "Model_step1.evaluate_generator(generator=target_generator)"
      ]
    },
    {
      "cell_type": "code",
      "execution_count": null,
      "metadata": {
        "colab": {
          "base_uri": "https://localhost:8080/"
        },
        "id": "FxZMCI6Rfaga",
        "outputId": "645f2a8d-4547-421c-b90c-9043b8095696"
      },
      "outputs": [
        {
          "output_type": "stream",
          "name": "stderr",
          "text": [
            "<ipython-input-38-e8cd0395a7c1>:3: UserWarning: `Model.evaluate_generator` is deprecated and will be removed in a future version. Please use `Model.evaluate`, which supports generators.\n",
            "  Model_step1.evaluate_generator(generator=source_generator)\n"
          ]
        },
        {
          "output_type": "execute_result",
          "data": {
            "text/plain": [
              "[0.053136926144361496,\n",
              " 0.001393154845573008,\n",
              " 0.0013929085107520223,\n",
              " 0.9996694326400757,\n",
              " 0.9996694326400757]"
            ]
          },
          "metadata": {},
          "execution_count": 38
        }
      ],
      "source": [
        "# Evaluate on Source\n",
        "source_generator = DataGenerator(source_data,source_ID, source_gt_dict, **params)\n",
        "Model_step1.evaluate_generator(generator=source_generator)"
      ]
    },
    {
      "cell_type": "code",
      "execution_count": null,
      "metadata": {
        "colab": {
          "base_uri": "https://localhost:8080/"
        },
        "id": "8kanUuRHFOGC",
        "outputId": "127738b5-4fb7-499d-c0d5-2e4581bc7923"
      },
      "outputs": [
        {
          "output_type": "stream",
          "name": "stderr",
          "text": [
            "<ipython-input-39-eb291ec6532b>:9: UserWarning: `Model.predict_generator` is deprecated and will be removed in a future version. Please use `Model.predict`, which supports generators.\n",
            "  outp1=Model_step1.predict_generator(generator=target_generator)\n"
          ]
        },
        {
          "output_type": "stream",
          "name": "stdout",
          "text": [
            "The Confidence level for ( 343 / 75219 = 0.4560018080538162 % ) of unknowns is below 50%. Other unknowns are classified as known classes with high confidence!\n"
          ]
        }
      ],
      "source": [
        "# Try to find unknowns based on confidence percentage (just for evaluation of this method's performance)\n",
        "\n",
        "params = {'dim': (17,17),\n",
        "          'batch_size': 1,\n",
        "          'n_classes': 7,\n",
        "          'n_channels': 102,\n",
        "          'shuffle': False}\n",
        "unknown_generator = DataGenerator(target_data,unknown_ID, target_gt_dict, **params)\n",
        "outp1=Model_step1.predict_generator(generator=target_generator)\n",
        "\n",
        "#outp1,_=Model_step1.predict(unknown_patches)\n",
        "outp1_maxes=numpy.amax(outp1,axis=-1)\n",
        "result=np.where(outp1_maxes<0.5)\n",
        "len(result[0])\n",
        "print(\"The Confidence level for (\",len(result[0]),\"/\",75219,\"=\",len(result[0])*100/75219,\"% ) of unknowns is below 50%. Other unknowns are classified as known classes with high confidence!\")"
      ]
    },
    {
      "cell_type": "code",
      "execution_count": null,
      "metadata": {
        "id": "SzD8Dh81ZggW"
      },
      "outputs": [],
      "source": [
        "unknown_mode=False  #If you want to run the network in closed set mode, you can set unknown_mode=false and skip (Finding Unknowns) part.\n",
        "                    #In that case, you may continue running the code from (step3a model) part."
      ]
    },
    {
      "cell_type": "markdown",
      "metadata": {
        "id": "LgbZupEYI6RF"
      },
      "source": [
        "**Finding Unknowns:**"
      ]
    },
    {
      "cell_type": "code",
      "execution_count": null,
      "metadata": {
        "id": "wDPP6HRSZbGp"
      },
      "outputs": [],
      "source": [
        "unknown_mode=True"
      ]
    },
    {
      "cell_type": "code",
      "execution_count": null,
      "metadata": {
        "id": "vaiN727LPRVF"
      },
      "outputs": [],
      "source": [
        "class recons2_model_class(tfk.Model):\n",
        "\n",
        "    def __init__(self, dim_z, kl_weight=1, LR_FACTOR=1, name=\"recons2\", **kwargs):\n",
        "        super(recons2_model_class, self).__init__(name=name, **kwargs)\n",
        "        self.dim_x = (img_size, img_size, num_channels)\n",
        "        self.dim_z = dim_z\n",
        "        self.encoder =   tensorflow.keras.models.Model(e_x, (encoder_mu,encoder_rho), name=\"encoder_mu_rho_model\")\n",
        "        self.conv_model = tensorflow.keras.models.Model(Ist, x_st, name=\"conv_model\")\n",
        "        self.decoder = tensorflow.keras.models.Model(decoder_input, decoder_output, name=\"decoder_model\")\n",
        "\n",
        "        self.conv_model.trainable=False\n",
        "        self.encoder.trainable=True\n",
        "        self.decoder.trainable=True\n",
        "\n",
        "\n",
        "\n",
        "    def vae_reconstruction_loss(self,y_true, y_predict):    # Reconstruction loss In case of Gaussian distribution assumption\n",
        "        reconstruction_loss_factor = 1/2\n",
        "        reconstruction_loss = tensorflow.keras.backend.mean(tensorflow.keras.backend.square(y_true-tf.sigmoid(y_predict)), axis=-1)\n",
        "        reconstruction_loss=tf.math.log(reconstruction_loss*2*math.pi)\n",
        "        return (reconstruction_loss_factor * reconstruction_loss)\n",
        "\n",
        "\n",
        "    def encode(self, x_input):\n",
        "        mu2,rho2 = self.encoder(x_input)\n",
        "        sd2=tensorflow.keras.backend.exp(rho2/2);\n",
        "        z_sample2 = mu2 + sd2 * tf.random.normal(shape=(self.dim_z,))\n",
        "        return z_sample2\n",
        "\n",
        "\n",
        "\n",
        "\n",
        "\n",
        "    def call(self, x_input):\n",
        "        conv_out=self.conv_model(x_input)\n",
        "        z_sample2 = self.encode(conv_out)\n",
        "        x_logits2 = self.decoder(z_sample2)\n",
        "        # Add Losses:\n",
        "        loss_ae=1*self.vae_reconstruction_loss(conv_out,x_logits2)\n",
        "        self.add_loss(tensorflow.keras.backend.mean(loss_ae))\n",
        "        return loss_ae\n",
        "\n",
        "\n"
      ]
    },
    {
      "cell_type": "code",
      "execution_count": null,
      "metadata": {
        "id": "gmBpvFmZQInX"
      },
      "outputs": [],
      "source": [
        "Model_recons2 = recons2_model_class(dim_z=latent_space_dim, kl_weight=beta)\n",
        "Model_recons2.compile(optimizer=tensorflow.keras.optimizers.legacy.Adam())"
      ]
    },
    {
      "cell_type": "markdown",
      "metadata": {
        "id": "w4fFUrslrUJZ"
      },
      "source": [
        "**Note:**` You can Skip running this snippet and uncomment and run the next snippet instead, in order to load already trained weights for step2:`"
      ]
    },
    {
      "cell_type": "code",
      "execution_count": null,
      "metadata": {
        "id": "NwogVYZmoIzm"
      },
      "outputs": [],
      "source": [
        "#Train\n",
        "import numpy as np\n",
        "import multiprocessing\n",
        "# Parameters\n",
        "params = {'dim': (17,17),\n",
        "          'batch_size': 32,\n",
        "          'n_classes': 7,\n",
        "          'n_channels': 102,\n",
        "          'shuffle': True}\n",
        "\n",
        "training_generator = DataGenerator(source_data, source_trainPatches_ID, source_trainPatches_gt_dict, **params)\n",
        "\n",
        "\n",
        "\n",
        "Model_recons2.fit_generator(generator=training_generator,\n",
        "                    use_multiprocessing=True,\n",
        "                    epochs=300,\n",
        "                    workers=multiprocessing.cpu_count())"
      ]
    },
    {
      "cell_type": "code",
      "execution_count": null,
      "metadata": {
        "colab": {
          "base_uri": "https://localhost:8080/"
        },
        "id": "btX65kXQVLWh",
        "outputId": "17a18d20-44fc-4801-dda0-a8d8085640d1"
      },
      "outputs": [
        {
          "output_type": "execute_result",
          "data": {
            "text/plain": [
              "<tensorflow.python.checkpoint.checkpoint.CheckpointLoadStatus at 0x7d8c4842bfa0>"
            ]
          },
          "metadata": {},
          "execution_count": 45
        }
      ],
      "source": [
        "# Uncomment these lines to load already trained weights for step 2:\n",
        "\n",
        "#import os\n",
        "\n",
        "#if(os.path.isfile('AlreadyLearnedWeights_pavia_step2.index')==False):\n",
        "#  !wget https://github.com/amirmah/OpenSet_CrossScene_HSI/raw/main/AlreadyLearnedWeights_pavia_step2.index\n",
        "\n",
        "#if(os.path.isfile('AlreadyLearnedWeights_pavia_step2.data-00000-of-00001')==False):\n",
        "#  !wget https://github.com/amirmah/OpenSet_CrossScene_HSI/raw/main/AlreadyLearnedWeights_pavia_step2.data-00000-of-00001\n",
        "\n",
        "#Model_step1.load_weights('AlreadyLearnedWeights_pavia_step2')"
      ]
    },
    {
      "cell_type": "code",
      "execution_count": null,
      "metadata": {
        "id": "oBRgjspT4sFH"
      },
      "outputs": [],
      "source": [
        "def extract_patches(dataname, list_IDs):\n",
        "  #self.dataname=dataname\n",
        "  #self.list_IDs=list_IDs\n",
        "  batch_size = list_IDs.shape[0]\n",
        "  batch = np.empty((batch_size, img_size,img_size, num_channels))\n",
        "  for i, ID in enumerate(list_IDs):\n",
        "    # Store sample\n",
        "    batch[i,] = dataname[ID[0]-8:ID[0]+9,ID[1]-8:ID[1]+9,:]\n",
        "  return batch"
      ]
    },
    {
      "cell_type": "code",
      "execution_count": null,
      "metadata": {
        "id": "rn-8id2YEkHG"
      },
      "outputs": [],
      "source": [
        "# Augmentation function\n",
        "import numpy as np\n",
        "def perform_augmentation(data, gt):\n",
        "  flipV=np.flip(data,1)\n",
        "  flipH=np.flip(data,2)\n",
        "  flipHV=np.flip(flipH,1)\n",
        "  return np.concatenate((flipV,flipH,flipHV,data),axis=0) , np.concatenate((gt,gt,gt,gt),axis=0)\n"
      ]
    },
    {
      "cell_type": "code",
      "execution_count": null,
      "metadata": {
        "colab": {
          "base_uri": "https://localhost:8080/"
        },
        "id": "luTCBQD44h9K",
        "outputId": "2d2499c9-990f-4ed5-8c49-894068619ca5"
      },
      "outputs": [
        {
          "output_type": "stream",
          "name": "stdout",
          "text": [
            "16/16 [==============================] - 3s 13ms/step\n",
            "16/16 [==============================] - 0s 11ms/step\n",
            "16/16 [==============================] - 0s 13ms/step\n",
            "16/16 [==============================] - 0s 10ms/step\n",
            "16/16 [==============================] - 0s 11ms/step\n",
            "16/16 [==============================] - 0s 10ms/step\n",
            "16/16 [==============================] - 0s 22ms/step\n",
            "16/16 [==============================] - 0s 16ms/step\n",
            "16/16 [==============================] - 0s 18ms/step\n",
            "16/16 [==============================] - 0s 16ms/step\n",
            "16/16 [==============================] - 0s 16ms/step\n",
            "16/16 [==============================] - 0s 14ms/step\n",
            "16/16 [==============================] - 0s 17ms/step\n",
            "16/16 [==============================] - 0s 9ms/step\n",
            "16/16 [==============================] - 0s 10ms/step\n",
            "16/16 [==============================] - 0s 13ms/step\n",
            "16/16 [==============================] - 0s 9ms/step\n",
            "16/16 [==============================] - 0s 10ms/step\n",
            "16/16 [==============================] - 0s 10ms/step\n",
            "16/16 [==============================] - 0s 10ms/step\n",
            "16/16 [==============================] - 0s 10ms/step\n",
            "16/16 [==============================] - 0s 10ms/step\n",
            "16/16 [==============================] - 0s 11ms/step\n",
            "16/16 [==============================] - 0s 10ms/step\n",
            "16/16 [==============================] - 0s 10ms/step\n",
            "16/16 [==============================] - 0s 9ms/step\n",
            "16/16 [==============================] - 0s 10ms/step\n",
            "16/16 [==============================] - 0s 9ms/step\n",
            "16/16 [==============================] - 0s 10ms/step\n",
            "16/16 [==============================] - 0s 9ms/step\n",
            "16/16 [==============================] - 0s 10ms/step\n",
            "16/16 [==============================] - 0s 10ms/step\n",
            "16/16 [==============================] - 0s 10ms/step\n",
            "16/16 [==============================] - 0s 10ms/step\n",
            "16/16 [==============================] - 0s 16ms/step\n",
            "16/16 [==============================] - 0s 14ms/step\n",
            "16/16 [==============================] - 0s 15ms/step\n",
            "16/16 [==============================] - 0s 16ms/step\n",
            "16/16 [==============================] - 0s 16ms/step\n",
            "16/16 [==============================] - 0s 15ms/step\n",
            "16/16 [==============================] - 0s 15ms/step\n",
            "16/16 [==============================] - 0s 15ms/step\n",
            "16/16 [==============================] - 0s 14ms/step\n",
            "16/16 [==============================] - 0s 9ms/step\n",
            "16/16 [==============================] - 0s 10ms/step\n",
            "16/16 [==============================] - 0s 11ms/step\n",
            "16/16 [==============================] - 0s 10ms/step\n",
            "16/16 [==============================] - 0s 10ms/step\n",
            "16/16 [==============================] - 0s 10ms/step\n",
            "16/16 [==============================] - 0s 9ms/step\n",
            "16/16 [==============================] - 0s 10ms/step\n",
            "16/16 [==============================] - 0s 10ms/step\n",
            "16/16 [==============================] - 0s 10ms/step\n",
            "16/16 [==============================] - 0s 9ms/step\n",
            "16/16 [==============================] - 0s 10ms/step\n",
            "16/16 [==============================] - 0s 9ms/step\n",
            "16/16 [==============================] - 0s 10ms/step\n",
            "16/16 [==============================] - 0s 9ms/step\n",
            "16/16 [==============================] - 0s 10ms/step\n",
            "16/16 [==============================] - 0s 10ms/step\n",
            "16/16 [==============================] - 0s 9ms/step\n",
            "16/16 [==============================] - 0s 9ms/step\n",
            "16/16 [==============================] - 0s 13ms/step\n",
            "16/16 [==============================] - 0s 10ms/step\n",
            "16/16 [==============================] - 0s 15ms/step\n",
            "16/16 [==============================] - 0s 15ms/step\n",
            "16/16 [==============================] - 0s 16ms/step\n",
            "16/16 [==============================] - 0s 15ms/step\n",
            "16/16 [==============================] - 0s 14ms/step\n",
            "16/16 [==============================] - 0s 18ms/step\n",
            "16/16 [==============================] - 0s 15ms/step\n",
            "16/16 [==============================] - 0s 15ms/step\n",
            "16/16 [==============================] - 0s 10ms/step\n",
            "16/16 [==============================] - 0s 9ms/step\n",
            "16/16 [==============================] - 0s 10ms/step\n",
            "16/16 [==============================] - 0s 9ms/step\n",
            "16/16 [==============================] - 0s 10ms/step\n",
            "16/16 [==============================] - 0s 10ms/step\n",
            "16/16 [==============================] - 0s 10ms/step\n",
            "16/16 [==============================] - 0s 10ms/step\n",
            "16/16 [==============================] - 0s 10ms/step\n",
            "16/16 [==============================] - 0s 9ms/step\n",
            "16/16 [==============================] - 0s 11ms/step\n",
            "16/16 [==============================] - 0s 9ms/step\n",
            "16/16 [==============================] - 0s 10ms/step\n",
            "16/16 [==============================] - 0s 9ms/step\n",
            "16/16 [==============================] - 0s 10ms/step\n",
            "16/16 [==============================] - 0s 10ms/step\n",
            "16/16 [==============================] - 0s 10ms/step\n",
            "16/16 [==============================] - 0s 9ms/step\n",
            "16/16 [==============================] - 0s 11ms/step\n",
            "16/16 [==============================] - 0s 9ms/step\n",
            "16/16 [==============================] - 0s 11ms/step\n",
            "16/16 [==============================] - 0s 14ms/step\n",
            "16/16 [==============================] - 0s 17ms/step\n",
            "16/16 [==============================] - 0s 16ms/step\n",
            "16/16 [==============================] - 0s 15ms/step\n",
            "16/16 [==============================] - 0s 14ms/step\n",
            "16/16 [==============================] - 0s 17ms/step\n",
            "16/16 [==============================] - 0s 15ms/step\n",
            "16/16 [==============================] - 0s 16ms/step\n",
            "16/16 [==============================] - 0s 17ms/step\n",
            "16/16 [==============================] - 0s 10ms/step\n",
            "16/16 [==============================] - 0s 11ms/step\n",
            "16/16 [==============================] - 0s 10ms/step\n",
            "16/16 [==============================] - 0s 10ms/step\n",
            "16/16 [==============================] - 0s 10ms/step\n",
            "16/16 [==============================] - 0s 9ms/step\n",
            "16/16 [==============================] - 0s 10ms/step\n",
            "16/16 [==============================] - 0s 10ms/step\n",
            "16/16 [==============================] - 0s 10ms/step\n",
            "16/16 [==============================] - 0s 10ms/step\n",
            "16/16 [==============================] - 0s 10ms/step\n",
            "16/16 [==============================] - 0s 10ms/step\n",
            "16/16 [==============================] - 0s 11ms/step\n",
            "16/16 [==============================] - 0s 9ms/step\n",
            "16/16 [==============================] - 0s 10ms/step\n",
            "16/16 [==============================] - 0s 9ms/step\n",
            "16/16 [==============================] - 0s 10ms/step\n",
            "16/16 [==============================] - 0s 10ms/step\n",
            "16/16 [==============================] - 0s 10ms/step\n",
            "16/16 [==============================] - 0s 9ms/step\n",
            "16/16 [==============================] - 0s 10ms/step\n",
            "16/16 [==============================] - 0s 15ms/step\n",
            "16/16 [==============================] - 0s 15ms/step\n",
            "16/16 [==============================] - 0s 14ms/step\n",
            "16/16 [==============================] - 0s 15ms/step\n",
            "16/16 [==============================] - 0s 16ms/step\n",
            "16/16 [==============================] - 0s 17ms/step\n",
            "16/16 [==============================] - 0s 16ms/step\n",
            "16/16 [==============================] - 0s 18ms/step\n",
            "16/16 [==============================] - 0s 9ms/step\n",
            "16/16 [==============================] - 0s 11ms/step\n",
            "16/16 [==============================] - 0s 9ms/step\n",
            "16/16 [==============================] - 0s 11ms/step\n",
            "16/16 [==============================] - 0s 10ms/step\n",
            "16/16 [==============================] - 0s 10ms/step\n",
            "16/16 [==============================] - 0s 10ms/step\n",
            "16/16 [==============================] - 0s 10ms/step\n",
            "16/16 [==============================] - 0s 10ms/step\n",
            "16/16 [==============================] - 0s 10ms/step\n",
            "16/16 [==============================] - 0s 10ms/step\n",
            "16/16 [==============================] - 0s 10ms/step\n",
            "16/16 [==============================] - 0s 10ms/step\n",
            "16/16 [==============================] - 0s 10ms/step\n",
            "16/16 [==============================] - 0s 10ms/step\n",
            "16/16 [==============================] - 0s 10ms/step\n",
            "16/16 [==============================] - 0s 9ms/step\n",
            "16/16 [==============================] - 0s 10ms/step\n",
            "16/16 [==============================] - 0s 9ms/step\n",
            "16/16 [==============================] - 0s 10ms/step\n",
            "16/16 [==============================] - 0s 14ms/step\n",
            "16/16 [==============================] - 0s 15ms/step\n",
            "16/16 [==============================] - 0s 17ms/step\n",
            "16/16 [==============================] - 0s 15ms/step\n",
            "16/16 [==============================] - 0s 14ms/step\n",
            "16/16 [==============================] - 0s 16ms/step\n",
            "16/16 [==============================] - 0s 16ms/step\n",
            "16/16 [==============================] - 0s 20ms/step\n",
            "16/16 [==============================] - 0s 10ms/step\n",
            "16/16 [==============================] - 0s 10ms/step\n",
            "16/16 [==============================] - 0s 9ms/step\n",
            "16/16 [==============================] - 0s 11ms/step\n",
            "16/16 [==============================] - 0s 9ms/step\n",
            "16/16 [==============================] - 0s 10ms/step\n",
            "16/16 [==============================] - 0s 10ms/step\n",
            "16/16 [==============================] - 0s 11ms/step\n",
            "16/16 [==============================] - 0s 10ms/step\n",
            "16/16 [==============================] - 0s 10ms/step\n",
            "16/16 [==============================] - 0s 9ms/step\n",
            "16/16 [==============================] - 0s 10ms/step\n",
            "16/16 [==============================] - 0s 9ms/step\n",
            "16/16 [==============================] - 0s 10ms/step\n",
            "16/16 [==============================] - 0s 9ms/step\n",
            "16/16 [==============================] - 0s 10ms/step\n",
            "16/16 [==============================] - 0s 10ms/step\n",
            "16/16 [==============================] - 0s 10ms/step\n",
            "16/16 [==============================] - 0s 10ms/step\n",
            "16/16 [==============================] - 0s 9ms/step\n",
            "16/16 [==============================] - 0s 15ms/step\n",
            "16/16 [==============================] - 0s 15ms/step\n",
            "16/16 [==============================] - 0s 15ms/step\n",
            "16/16 [==============================] - 0s 15ms/step\n",
            "16/16 [==============================] - 0s 15ms/step\n",
            "16/16 [==============================] - 0s 15ms/step\n",
            "16/16 [==============================] - 0s 17ms/step\n",
            "16/16 [==============================] - 0s 17ms/step\n",
            "16/16 [==============================] - 0s 10ms/step\n",
            "16/16 [==============================] - 0s 10ms/step\n",
            "16/16 [==============================] - 0s 10ms/step\n",
            "16/16 [==============================] - 0s 9ms/step\n",
            "16/16 [==============================] - 0s 11ms/step\n",
            "16/16 [==============================] - 0s 10ms/step\n",
            "16/16 [==============================] - 0s 10ms/step\n",
            "16/16 [==============================] - 0s 10ms/step\n",
            "16/16 [==============================] - 0s 10ms/step\n",
            "16/16 [==============================] - 0s 10ms/step\n",
            "16/16 [==============================] - 0s 10ms/step\n",
            "16/16 [==============================] - 0s 10ms/step\n",
            "16/16 [==============================] - 0s 10ms/step\n",
            "16/16 [==============================] - 0s 10ms/step\n",
            "16/16 [==============================] - 0s 11ms/step\n",
            "16/16 [==============================] - 0s 10ms/step\n",
            "16/16 [==============================] - 0s 10ms/step\n",
            "16/16 [==============================] - 0s 10ms/step\n",
            "16/16 [==============================] - 0s 10ms/step\n",
            "16/16 [==============================] - 0s 10ms/step\n",
            "16/16 [==============================] - 0s 10ms/step\n",
            "16/16 [==============================] - 0s 15ms/step\n",
            "16/16 [==============================] - 0s 16ms/step\n",
            "16/16 [==============================] - 0s 15ms/step\n",
            "16/16 [==============================] - 0s 15ms/step\n",
            "16/16 [==============================] - 0s 16ms/step\n",
            "16/16 [==============================] - 0s 15ms/step\n",
            "16/16 [==============================] - 0s 17ms/step\n",
            "16/16 [==============================] - 0s 11ms/step\n",
            "16/16 [==============================] - 0s 10ms/step\n",
            "16/16 [==============================] - 0s 9ms/step\n",
            "16/16 [==============================] - 0s 10ms/step\n",
            "16/16 [==============================] - 0s 10ms/step\n",
            "16/16 [==============================] - 0s 10ms/step\n",
            "16/16 [==============================] - 0s 11ms/step\n",
            "16/16 [==============================] - 0s 10ms/step\n",
            "16/16 [==============================] - 0s 11ms/step\n",
            "16/16 [==============================] - 0s 10ms/step\n",
            "16/16 [==============================] - 0s 10ms/step\n",
            "16/16 [==============================] - 0s 10ms/step\n",
            "16/16 [==============================] - 0s 10ms/step\n",
            "16/16 [==============================] - 0s 10ms/step\n",
            "16/16 [==============================] - 0s 10ms/step\n",
            "16/16 [==============================] - 0s 10ms/step\n",
            "16/16 [==============================] - 0s 10ms/step\n",
            "16/16 [==============================] - 0s 10ms/step\n",
            "16/16 [==============================] - 0s 10ms/step\n",
            "16/16 [==============================] - 0s 11ms/step\n",
            "16/16 [==============================] - 0s 10ms/step\n",
            "16/16 [==============================] - 0s 10ms/step\n",
            "16/16 [==============================] - 0s 15ms/step\n",
            "16/16 [==============================] - 0s 16ms/step\n",
            "16/16 [==============================] - 0s 17ms/step\n",
            "16/16 [==============================] - 0s 16ms/step\n",
            "16/16 [==============================] - 0s 14ms/step\n",
            "16/16 [==============================] - 0s 16ms/step\n",
            "16/16 [==============================] - 0s 15ms/step\n",
            "16/16 [==============================] - 0s 17ms/step\n",
            "16/16 [==============================] - 0s 10ms/step\n",
            "16/16 [==============================] - 0s 11ms/step\n",
            "16/16 [==============================] - 0s 10ms/step\n",
            "16/16 [==============================] - 0s 10ms/step\n",
            "16/16 [==============================] - 0s 9ms/step\n",
            "16/16 [==============================] - 0s 10ms/step\n",
            "16/16 [==============================] - 0s 10ms/step\n",
            "16/16 [==============================] - 0s 9ms/step\n",
            "16/16 [==============================] - 0s 10ms/step\n",
            "16/16 [==============================] - 0s 10ms/step\n",
            "16/16 [==============================] - 0s 11ms/step\n",
            "16/16 [==============================] - 0s 10ms/step\n",
            "16/16 [==============================] - 0s 10ms/step\n",
            "16/16 [==============================] - 0s 10ms/step\n",
            "16/16 [==============================] - 0s 9ms/step\n",
            "16/16 [==============================] - 0s 14ms/step\n",
            "16/16 [==============================] - 1s 37ms/step\n",
            "16/16 [==============================] - 0s 10ms/step\n",
            "16/16 [==============================] - 0s 12ms/step\n",
            "16/16 [==============================] - 0s 11ms/step\n",
            "16/16 [==============================] - 0s 12ms/step\n",
            "16/16 [==============================] - 0s 17ms/step\n",
            "16/16 [==============================] - 0s 14ms/step\n",
            "16/16 [==============================] - 0s 16ms/step\n",
            "16/16 [==============================] - 0s 15ms/step\n",
            "16/16 [==============================] - 0s 15ms/step\n",
            "16/16 [==============================] - 0s 15ms/step\n",
            "16/16 [==============================] - 0s 18ms/step\n",
            "16/16 [==============================] - 0s 13ms/step\n",
            "16/16 [==============================] - 0s 11ms/step\n",
            "16/16 [==============================] - 0s 10ms/step\n",
            "9/9 [==============================] - 2s 12ms/step\n"
          ]
        }
      ],
      "source": [
        "# Loss Calculations (With Live Augmentation)\n",
        "\n",
        "n_batch=128 #128 # number of samples in each batch\n",
        "\n",
        "loss_hist=np.ones(4*source_trainPatches_ID_gt.shape[0])\n",
        "\n",
        "int_division=int(source_trainPatches_ID_gt.shape[0]/n_batch)\n",
        "remainingSamples=source_trainPatches_ID_gt.shape[0]-int_division*n_batch\n",
        "if(remainingSamples)>0:\n",
        "  n_parts=int_division+1\n",
        "else:\n",
        "  n_parts=int_division\n",
        "\n",
        "for j in range(n_parts):\n",
        "    if(j<int_division):\n",
        "      source_batch=extract_patches(source_data, source_trainPatches_ID[j*n_batch:j*n_batch+n_batch])\n",
        "      source_batch_gt=source_trainPatches_ID_gt[j*n_batch:j*n_batch+n_batch]\n",
        "      source_batch_new,source_batch_new_gt = perform_augmentation(source_batch,source_batch_gt)  # augmentation\n",
        "      loss_hist[j*n_batch*4:j*n_batch*4+n_batch*4]=Model_recons2.predict(source_batch_new)\n",
        "    else:\n",
        "      source_batch=extract_patches(source_data,source_trainPatches_ID[int_division*n_batch:int_division*n_batch+remainingSamples])\n",
        "      source_batch_gt=source_trainPatches_ID_gt[int_division*n_batch:int_division*n_batch+remainingSamples]\n",
        "      source_batch_new,source_batch_new_gt = perform_augmentation(source_batch,source_batch_gt)  # augmentation\n",
        "      loss_hist[int_division*n_batch*4:int_division*n_batch*4+remainingSamples*4]=Model_recons2.predict(source_batch_new)\n"
      ]
    },
    {
      "cell_type": "code",
      "execution_count": null,
      "metadata": {
        "id": "YX4bHfbbEvF0"
      },
      "outputs": [],
      "source": [
        "# histogram high tail Model ( EVA )\n",
        "\n",
        "loss_hist=loss_hist.astype('double')\n",
        "\n",
        "mr = libmr.MR()\n",
        "mr.fit_high(loss_hist,int(0.05*len(source_trainPatches_ID_gt)))\n",
        "\n"
      ]
    },
    {
      "cell_type": "markdown",
      "metadata": {
        "id": "qCJeK6DEmPMo"
      },
      "source": [
        "**Remove Unknowns from target_trainPatches:**"
      ]
    },
    {
      "cell_type": "code",
      "execution_count": null,
      "metadata": {
        "colab": {
          "base_uri": "https://localhost:8080/"
        },
        "id": "Q8LR0C2tCP6q",
        "outputId": "08f00ab6-a041-4f09-8d4f-180001d24b18"
      },
      "outputs": [
        {
          "output_type": "execute_result",
          "data": {
            "text/plain": [
              "133336"
            ]
          },
          "metadata": {},
          "execution_count": 50
        }
      ],
      "source": [
        "# Concat 0.9 of unknowns with target_trainPatches\n",
        "#75219*0.9=67697\n",
        "target_and_unknown_train_ID=numpy.concatenate((numpy.transpose(unknown_ID)[0:67697],target_trainPatches_ID),axis=0)\n",
        "target_and_unknown_train_ID_gt=numpy.concatenate((7*np.ones(67697),target_trainPatches_ID_gt),axis=0)\n",
        "len(target_and_unknown_train_ID_gt)\n",
        "\n",
        "\n"
      ]
    },
    {
      "cell_type": "code",
      "execution_count": null,
      "metadata": {
        "colab": {
          "base_uri": "https://localhost:8080/"
        },
        "id": "RyZnYan-HmLA",
        "outputId": "64a5a8d5-93ac-43b0-f472-44d39e995128"
      },
      "outputs": [
        {
          "output_type": "execute_result",
          "data": {
            "text/plain": [
              "7.0"
            ]
          },
          "metadata": {},
          "execution_count": 51
        }
      ],
      "source": [
        "# Shufle again\n",
        "target_and_unknown_train_ID, target_and_unknown_train_ID_gt = shuffle(target_and_unknown_train_ID, target_and_unknown_train_ID_gt, random_state=42)\n",
        "target_and_unknown_train_ID_gt.max()"
      ]
    },
    {
      "cell_type": "code",
      "execution_count": null,
      "metadata": {
        "colab": {
          "base_uri": "https://localhost:8080/"
        },
        "id": "rQpohPGANm9N",
        "outputId": "33ec8731-6be4-4608-9722-890b8021561a"
      },
      "outputs": [
        {
          "output_type": "execute_result",
          "data": {
            "text/plain": [
              "148152"
            ]
          },
          "metadata": {},
          "execution_count": 52
        }
      ],
      "source": [
        "# Target_all\n",
        "target_all_ID=numpy.concatenate((target_ID,numpy.transpose(unknown_ID)),axis=0)\n",
        "target_all_ID_gt=numpy.concatenate((target_ID_gt,7*np.ones(75219)),axis=0)\n",
        "len(target_all_ID_gt)\n"
      ]
    },
    {
      "cell_type": "code",
      "execution_count": null,
      "metadata": {
        "id": "Z1j-bqb5IaQ0"
      },
      "outputs": [],
      "source": [
        "# Create a dictionary for labels\n",
        "target_and_unknown_train_gt_dict=dict()\n",
        "for i,labelvalue in enumerate(target_and_unknown_train_ID_gt):\n",
        "  target_and_unknown_train_gt_dict[target_and_unknown_train_ID[i][0],target_and_unknown_train_ID[i][1]]=labelvalue\n",
        "\n",
        "target_all_dict=dict()\n",
        "for i,labelvalue in enumerate(target_all_ID_gt):\n",
        "  target_all_dict[target_all_ID[i][0],target_all_ID[i][1]]=labelvalue"
      ]
    },
    {
      "cell_type": "code",
      "execution_count": null,
      "metadata": {
        "colab": {
          "base_uri": "https://localhost:8080/"
        },
        "id": "gVN7aB_lM9pS",
        "outputId": "075fda26-0d31-45e9-c38f-1f75b92131a4"
      },
      "outputs": [
        {
          "output_type": "stream",
          "name": "stderr",
          "text": [
            "<ipython-input-54-e3ad5095e109>:9: UserWarning: `Model.predict_generator` is deprecated and will be removed in a future version. Please use `Model.predict`, which supports generators.\n",
            "  targetpredict=Model_recons2.predict_generator(generator=tu_train_generator)\n"
          ]
        },
        {
          "output_type": "execute_result",
          "data": {
            "text/plain": [
              "72578"
            ]
          },
          "metadata": {},
          "execution_count": 54
        }
      ],
      "source": [
        "# Predict based on the high tail model\n",
        "\n",
        "params = {'dim': (17,17),\n",
        "          'batch_size': 1,\n",
        "          'n_classes': 8,\n",
        "          'n_channels': 102,\n",
        "          'shuffle': False}\n",
        "tu_train_generator = DataGenerator(target_data,target_and_unknown_train_ID, target_and_unknown_train_gt_dict, **params)\n",
        "targetpredict=Model_recons2.predict_generator(generator=tu_train_generator)\n",
        "\n",
        "#targetpredict=Model_recons2.predict(target_trainPatches)\n",
        "targetpredict=targetpredict.astype('double')\n",
        "\n",
        "\n",
        "wscore = mr.w_score_vector(targetpredict)\n",
        "mask = wscore>TH # threshold TH\n",
        "\n",
        "\n",
        "result=np.where(mask == True)\n",
        "len(result[0])"
      ]
    },
    {
      "cell_type": "code",
      "execution_count": null,
      "metadata": {
        "id": "-2sKeLMbTiAp"
      },
      "outputs": [],
      "source": [
        "# Remove unknowns from target_tarinPatches\n",
        "target_trainPatches_ID=target_and_unknown_train_ID[np.where(mask == False)[0],:]\n",
        "target_trainPatches_ID_gt=target_and_unknown_train_ID_gt[np.where(mask == False)[0]]\n"
      ]
    },
    {
      "cell_type": "markdown",
      "metadata": {
        "id": "_5KwegIYlxQO"
      },
      "source": [
        "**Find Unknowns on all target data:**"
      ]
    },
    {
      "cell_type": "code",
      "execution_count": null,
      "metadata": {
        "colab": {
          "base_uri": "https://localhost:8080/"
        },
        "id": "H4SDG9kYmgqF",
        "outputId": "12c37871-51ff-44c7-9b8b-cd48af8d7bf9"
      },
      "outputs": [
        {
          "output_type": "stream",
          "name": "stderr",
          "text": [
            "<ipython-input-56-e84fd37d4784>:9: UserWarning: `Model.predict_generator` is deprecated and will be removed in a future version. Please use `Model.predict`, which supports generators.\n",
            "  targetpredict=Model_recons2.predict_generator(generator=target_all_generator)\n"
          ]
        },
        {
          "output_type": "execute_result",
          "data": {
            "text/plain": [
              "75513"
            ]
          },
          "metadata": {},
          "execution_count": 56
        }
      ],
      "source": [
        "# Predict based on the high tail model\n",
        "\n",
        "params = {'dim': (17,17),\n",
        "          'batch_size': 1,\n",
        "          'n_classes': 8,\n",
        "          'n_channels': 102,\n",
        "          'shuffle': False}\n",
        "target_all_generator = DataGenerator(target_data,target_all_ID, target_all_dict, **params)\n",
        "targetpredict=Model_recons2.predict_generator(generator=target_all_generator)\n",
        "\n",
        "#targetpredict=Model_recons2.predict(target_all)\n",
        "targetpredict=targetpredict.astype('double')\n",
        "\n",
        "\n",
        "wscore = mr.w_score_vector(targetpredict)\n",
        "mask = wscore>TH # threshold TH\n",
        "\n",
        "\n",
        "predicted_unknowns_all=np.where(mask == True)\n",
        "len(predicted_unknowns_all[0])"
      ]
    },
    {
      "cell_type": "code",
      "execution_count": null,
      "metadata": {
        "colab": {
          "base_uri": "https://localhost:8080/"
        },
        "id": "kGgaD098QoLk",
        "outputId": "b573cf90-ba8e-4434-f175-9d45d70c5450"
      },
      "outputs": [
        {
          "output_type": "stream",
          "name": "stdout",
          "text": [
            "67220 of 75219 unknowns were correctly recognized as unknown.\n",
            "8293 of 72933 samples with known classes were falsely recognized as unknows.\n"
          ]
        }
      ],
      "source": [
        "# Number of unknowns that are recognized\n",
        "result2=np.where(target_all_ID_gt[predicted_unknowns_all]==7)\n",
        "len(result2[0])\n",
        "print(len(result2[0]),\"of 75219 unknowns were correctly recognized as unknown.\")\n",
        "print(len(predicted_unknowns_all[0])-len(result2[0]),\"of 72933 samples with known classes were falsely recognized as unknows.\")"
      ]
    },
    {
      "cell_type": "markdown",
      "metadata": {
        "id": "a4Hd7sVqePBK"
      },
      "source": [
        "**Step 3a Model:**"
      ]
    },
    {
      "cell_type": "code",
      "execution_count": null,
      "metadata": {
        "colab": {
          "base_uri": "https://localhost:8080/"
        },
        "id": "VdP1Ap_2oiIE",
        "outputId": "e1b31a1e-ac36-4338-fe83-3d82a69318ae"
      },
      "outputs": [
        {
          "output_type": "execute_result",
          "data": {
            "text/plain": [
              "<tensorflow.python.checkpoint.checkpoint.CheckpointLoadStatus at 0x7d8c50838850>"
            ]
          },
          "metadata": {},
          "execution_count": 58
        }
      ],
      "source": [
        "#Load the weights from step 1\n",
        "Model_step1.load_weights('pavia_best_model1_chkp')\n"
      ]
    },
    {
      "cell_type": "code",
      "execution_count": null,
      "metadata": {
        "id": "1eu9qUTvcOnz"
      },
      "outputs": [],
      "source": [
        "class step_3a_model_class(tfk.Model):\n",
        "\n",
        "    def __init__(self, dim_z,euclidean_Weight, name=\"ganb\", **kwargs):\n",
        "        super(step_3a_model_class, self).__init__(name=name, **kwargs)\n",
        "        self.dim_x = (img_size, img_size, num_channels)\n",
        "        self.dim_z = dim_z\n",
        "        self.euclidean_Weight=euclidean_Weight\n",
        "        self.encoder =   tensorflow.keras.models.Model(e_x, (encoder_mu,encoder_rho), name=\"encoder_mu_rho_model\")\n",
        "        self.conv_model = tensorflow.keras.models.Model(Ist, x_st, name=\"conv_model\")\n",
        "        self.c1_st = tensorflow.keras.models.Model(c1_input, c1_output, name=\"c1_model\")\n",
        "        self.c2_st = tensorflow.keras.models.Model(c2_input, c2_output, name=\"c2_model\")\n",
        "\n",
        "        self.conv_model.trainable=False\n",
        "        self.encoder.trainable=False\n",
        "        self.c1_st.trainable=True\n",
        "        self.c2_st.trainable=True\n",
        "\n",
        "\n",
        "    def encode(self, x_input):\n",
        "        mu,rho = self.encoder(x_input)\n",
        "        sd=tensorflow.keras.backend.exp(rho/2);\n",
        "        z_sample = mu + sd * tf.random.normal(shape=(self.dim_z,))\n",
        "        return z_sample, mu, rho\n",
        "\n",
        "\n",
        "\n",
        "\n",
        "\n",
        "    def call(self, x_input):\n",
        "        input_s,input_t=x_input\n",
        "        conv_out_s=self.conv_model(input_s)\n",
        "        conv_out_t=self.conv_model(input_t)\n",
        "        z_sample_t, mu, rho = self.encode(conv_out_t)\n",
        "        z_sample_s, mu, rho = self.encode(conv_out_s)\n",
        "        z1_s=self.c1_st(z_sample_s)\n",
        "        z2_s=self.c2_st(z_sample_s)\n",
        "        z1_t=self.c1_st(z_sample_t)\n",
        "        z2_t=self.c2_st(z_sample_t)\n",
        "        euclidean_loss=K.sqrt(K.sum(K.square(z1_t - z2_t), axis=-1))\n",
        "        #euclidean_loss=tf.math.log(euclidean_loss)  ## !\n",
        "        # Add Loss:\n",
        "        self.add_loss(-self.euclidean_Weight*tf.math.reduce_mean(euclidean_loss))\n",
        "        return z1_s,z2_s\n"
      ]
    },
    {
      "cell_type": "code",
      "execution_count": null,
      "metadata": {
        "id": "ZxENBJzC1HKl"
      },
      "outputs": [],
      "source": [
        "    Model_step3a = step_3a_model_class(dim_z=latent_space_dim,euclidean_Weight=alpha)\n",
        "    Model_step3a.compile(optimizer=tensorflow.keras.optimizers.legacy.Adam(learning_rate=0.00005),\n",
        "            loss={'output_1':'categorical_crossentropy','output_2':'categorical_crossentropy'}, metrics=[tf.keras.metrics.CategoricalAccuracy()])"
      ]
    },
    {
      "cell_type": "markdown",
      "metadata": {
        "id": "CkwIuSrukOPv"
      },
      "source": [
        "**Step 3b Model:**"
      ]
    },
    {
      "cell_type": "code",
      "execution_count": null,
      "metadata": {
        "id": "ISxUJSTtkRVF"
      },
      "outputs": [],
      "source": [
        "\n",
        "class step_3b_model_class(tfk.Model):\n",
        "\n",
        "    def __init__(self, dim_z, name=\"ganc\", **kwargs):\n",
        "        super(step_3b_model_class, self).__init__(name=name, **kwargs)\n",
        "        self.dim_x = (img_size, img_size, num_channels)\n",
        "        self.dim_z = dim_z\n",
        "        self.encoder =   tensorflow.keras.models.Model(e_x, (encoder_mu,encoder_rho), name=\"encoder_mu_rho_model\")\n",
        "        self.conv_model = tensorflow.keras.models.Model(Ist, x_st, name=\"conv_model\")\n",
        "        self.c1_t = tensorflow.keras.models.Model(c1_input, c1_output, name=\"c1_model\")\n",
        "        self.c2_t = tensorflow.keras.models.Model(c2_input, c2_output, name=\"c2_model\")\n",
        "\n",
        "        self.conv_model.trainable=True\n",
        "        self.encoder.trainable=True\n",
        "        self.c1_t.trainable=False\n",
        "        self.c2_t.trainable=False\n",
        "\n",
        "\n",
        "    def encode(self, x_input):\n",
        "        mu,rho = self.encoder(x_input)\n",
        "        sd=tensorflow.keras.backend.exp(rho/2);\n",
        "        z_sample = mu + sd * tf.random.normal(shape=(self.dim_z,))\n",
        "        return z_sample, mu, rho\n",
        "\n",
        "\n",
        "\n",
        "\n",
        "\n",
        "    def call(self, x_input):\n",
        "        conv_out=self.conv_model(x_input)\n",
        "        z_sample, mu, rho = self.encode(conv_out)\n",
        "        z1_t=self.c1_t(z_sample)\n",
        "        z2_t=self.c2_t(z_sample)\n",
        "        euclidean_loss=K.sqrt(K.sum(K.square(z1_t - z2_t), axis=-1))\n",
        "        #euclidean_loss=tf.math.log(euclidean_loss)  ##!\n",
        "        # Add Loss:\n",
        "        self.add_loss(tf.math.reduce_mean(euclidean_loss))\n",
        "        return None\n"
      ]
    },
    {
      "cell_type": "code",
      "execution_count": null,
      "metadata": {
        "id": "sIUMoHmQfFD6"
      },
      "outputs": [],
      "source": [
        "    Model_step3b = step_3b_model_class(dim_z=latent_space_dim)\n",
        "    Model_step3b.compile(optimizer=tensorflow.keras.optimizers.legacy.Adam(learning_rate=0.00005))\n"
      ]
    },
    {
      "cell_type": "markdown",
      "metadata": {
        "id": "jI7zvTnaUAji"
      },
      "source": [
        "**Train Steps 3a & 3b :**"
      ]
    },
    {
      "cell_type": "code",
      "execution_count": null,
      "metadata": {
        "id": "cP-LENb_UbJu"
      },
      "outputs": [],
      "source": [
        "def extract_patches(dataname, list_IDs):\n",
        "  #self.dataname=dataname\n",
        "  #self.list_IDs=list_IDs\n",
        "  batch_size = list_IDs.shape[0]\n",
        "  batch = np.empty((batch_size, img_size,img_size, num_channels))\n",
        "  for i, ID in enumerate(list_IDs):\n",
        "    # Store sample\n",
        "    batch[i,] = dataname[ID[0]-8:ID[0]+9,ID[1]-8:ID[1]+9,:]\n",
        "  return batch"
      ]
    },
    {
      "cell_type": "code",
      "execution_count": null,
      "metadata": {
        "id": "GmtnE1NmSOaU"
      },
      "outputs": [],
      "source": [
        "params = {'dim': (17,17),\n",
        "          'batch_size': 32,\n",
        "          'n_classes': 7,\n",
        "          'n_channels': 102,\n",
        "          'shuffle': True}\n",
        "target_generator = DataGenerator(target_data,target_ID, target_gt_dict, **params)"
      ]
    },
    {
      "cell_type": "markdown",
      "metadata": {
        "id": "7IHnoeUUtOeF"
      },
      "source": [
        "**Note:**` You can Skip running this snippet and uncomment and run the next snippet instead, in order to load already trained weights for step3:`"
      ]
    },
    {
      "cell_type": "code",
      "execution_count": null,
      "metadata": {
        "colab": {
          "base_uri": "https://localhost:8080/"
        },
        "id": "cNe3tfxP1nD5",
        "outputId": "138f10bd-ddc0-471d-ca84-fd23fb6581df"
      },
      "outputs": [
        {
          "output_type": "execute_result",
          "data": {
            "text/plain": [
              "<tensorflow.python.checkpoint.checkpoint.CheckpointLoadStatus at 0x7d8c5082a680>"
            ]
          },
          "metadata": {},
          "execution_count": 65
        }
      ],
      "source": [
        "# Start Training (Steps 3a & 3b) :\n",
        "\n",
        "n_epochs=500\n",
        "n_batch=128 # number of samples in each batch\n",
        "shuffle_before_each_epoch=True\n",
        "early_stop_enabled=True\n",
        "max_patience=40\n",
        "\n",
        "\n",
        "minimumSampleNumber=min(source_trainPatches_ID_gt.shape[0],target_trainPatches_ID_gt.shape[0])\n",
        "int_division=int(minimumSampleNumber/n_batch)\n",
        "remainingSamples=minimumSampleNumber-int_division*n_batch\n",
        "if(remainingSamples)>0:\n",
        "  n_parts=int_division+1\n",
        "else:\n",
        "  n_parts=int_division\n",
        "\n",
        "patience_count=0\n",
        "min_bc=float('inf')\n",
        "for i in range(n_epochs):\n",
        "  gc.collect()\n",
        "  print('\\n')\n",
        "\n",
        "  if(shuffle_before_each_epoch==True):\n",
        "    source_trainPatches_ID, source_trainPatches_ID_gt = shuffle(source_trainPatches_ID, source_trainPatches_ID_gt, random_state=42)\n",
        "    target_trainPatches_ID, target_trainPatches_ID_gt = shuffle(target_trainPatches_ID, target_trainPatches_ID_gt, random_state=42)\n",
        "  for j in range(n_parts):\n",
        "    if(j<int_division):\n",
        "      source_batch=extract_patches(source_data, source_trainPatches_ID[j*n_batch:j*n_batch+n_batch])\n",
        "      target_batch=extract_patches(target_data, target_trainPatches_ID[j*n_batch:j*n_batch+n_batch])\n",
        "      source_batch_gt=source_trainPatches_ID_gt[j*n_batch:j*n_batch+n_batch]\n",
        "      #target_batch_gt=target_trainPatches_gt[j*n_batch:j*n_batch+n_batch,:]\n",
        "    else:\n",
        "      source_batch=extract_patches(source_data,source_trainPatches_ID[int_division*n_batch:int_division*n_batch+remainingSamples])\n",
        "      target_batch=extract_patches(target_data,target_trainPatches_ID[int_division*n_batch:int_division*n_batch+remainingSamples])\n",
        "      source_batch_gt=source_trainPatches_ID_gt[int_division*n_batch:int_division*n_batch+remainingSamples]\n",
        "      #target_batch_gt=target_trainPatches_gt[int_division*n_batch:int_division*n_batch+remainingSamples,:]\n",
        "\n",
        "    source_batch_gt=keras.utils.to_categorical(source_batch_gt, num_classes)\n",
        "\n",
        "    if (j==0):\n",
        "      should_reset_metrics=True\n",
        "    else:\n",
        "      should_reset_metrics=False\n",
        "\n",
        "    lossb,lossb1,lossb2,acc1,acc2=Model_step3a.train_on_batch([source_batch,target_batch], [source_batch_gt,source_batch_gt],reset_metrics=should_reset_metrics)\n",
        "\n",
        "\n",
        "    lossc=Model_step3b.train_on_batch(target_batch,None,reset_metrics=should_reset_metrics)\n",
        "    #lossc=Model_step3b.train_on_batch(target_batch,None,reset_metrics=should_reset_metrics)  # step 3b second cycle\n",
        "    print('\\rEpoch '+ str(i+1)+'/'+str(n_epochs)+' Step '+ str(j+1)+ '/'+ str(n_parts)+ ': acc1=', str(acc1)+ ' acc2='+ str(acc2)+' lossb='+str(lossb)+' lossb1='+\n",
        "          str(lossb1)+' lossb2='+str(lossb2)+' lossc='+str(lossc), end=''),\n",
        "  #Early stopping:\n",
        "  if(early_stop_enabled==True):\n",
        "    #total_lossbc=lossc\n",
        "    total_lossbc=lossc-lossb # minimizing generator loss and maximizing discriminator loss\n",
        "    if(total_lossbc<min_bc):\n",
        "      min_bc=total_lossbc\n",
        "      patience_count=0\n",
        "      Model_step1.save_weights('pavia_best_model3_chkp')\n",
        "      print(\"\\nCheckPoint Saved\")\n",
        "    else:\n",
        "      patience_count=patience_count+1;\n",
        "      if (patience_count>=max_patience):\n",
        "        print(\"\\nEarly Stopping..\")\n",
        "        break\n",
        "\n",
        "#Load the best saved checkpoint\n",
        "Model_step1.load_weights('pavia_best_model3_chkp')"
      ]
    },
    {
      "cell_type": "code",
      "execution_count": null,
      "metadata": {
        "id": "VbQKapVN7o80"
      },
      "outputs": [],
      "source": [
        "# Uncomment these lines to load already trained weights for step 3:\n",
        "\n",
        "#import os\n",
        "\n",
        "#if(os.path.isfile('AlreadyLearnedWeights_pavia_step3.index')==False):\n",
        "#  !wget https://github.com/amirmah/OpenSet_CrossScene_HSI/raw/main/AlreadyLearnedWeights_pavia_step3.index\n",
        "\n",
        "#if(os.path.isfile('AlreadyLearnedWeights_pavia_step3.data-00000-of-00001')==False):\n",
        "#  !wget https://github.com/amirmah/OpenSet_CrossScene_HSI/raw/main/AlreadyLearnedWeights_pavia_step3.data-00000-of-00001\n",
        "\n",
        "#Model_step1.load_weights('AlreadyLearnedWeights_pavia_step3')"
      ]
    },
    {
      "cell_type": "code",
      "execution_count": null,
      "metadata": {
        "colab": {
          "base_uri": "https://localhost:8080/"
        },
        "id": "qe46KTJOFgEp",
        "outputId": "36c9b2d0-12ca-4838-b75c-17f947499f7c"
      },
      "outputs": [
        {
          "output_type": "stream",
          "name": "stderr",
          "text": [
            "<ipython-input-67-e6896d0a8674>:19: UserWarning: `Model.predict_generator` is deprecated and will be removed in a future version. Please use `Model.predict`, which supports generators.\n",
            "  y_pred=Model_step1.predict_generator(generator=target_generator)\n"
          ]
        },
        {
          "output_type": "stream",
          "name": "stdout",
          "text": [
            "              precision    recall  f1-score   support\n",
            "\n",
            "         0.0      0.000     0.000     0.000      3090\n",
            "         1.0      0.883     0.989     0.933     42826\n",
            "         2.0      0.000     0.000     0.000      7287\n",
            "         3.0      0.868     0.973     0.917      7598\n",
            "         4.0      0.000     0.000     0.000      2685\n",
            "         5.0      0.000     0.001     0.000      2863\n",
            "         6.0      0.037     0.001     0.002      6584\n",
            "         7.0      0.890     0.894     0.892     75219\n",
            "\n",
            "    accuracy                          0.790    148152\n",
            "   macro avg      0.335     0.357     0.343    148152\n",
            "weighted avg      0.753     0.790     0.770    148152\n",
            "\n"
          ]
        }
      ],
      "source": [
        "from sklearn.metrics import classification_report\n",
        "import numpy as np\n",
        "\n",
        "\n",
        "if unknown_mode==True:\n",
        "  params = {'dim': (17,17),\n",
        "          'batch_size': 1,\n",
        "          'n_classes': 8,\n",
        "          'n_channels': 102,\n",
        "          'shuffle': False}\n",
        "  target_generator = DataGenerator(target_data,target_all_ID, target_all_dict, **params)\n",
        "else:\n",
        "  params = {'dim': (17,17),\n",
        "          'batch_size': 1,\n",
        "          'n_classes': 7,\n",
        "          'n_channels': 102,\n",
        "          'shuffle': False}\n",
        "  target_generator = DataGenerator(target_data,target_ID, target_gt_dict, **params)\n",
        "y_pred=Model_step1.predict_generator(generator=target_generator)\n",
        "y_pred=np.argmax(y_pred[0],axis=1)\n",
        "if unknown_mode==True:\n",
        "  y_pred[predicted_unknowns_all]=num_classes #7  # predicted unknowns\n",
        "  print(classification_report(target_all_ID_gt,y_pred,digits=3 ))\n",
        "else:\n",
        "  print(classification_report(target_ID_gt,y_pred,digits=3 ))"
      ]
    },
    {
      "cell_type": "code",
      "execution_count": null,
      "metadata": {
        "colab": {
          "base_uri": "https://localhost:8080/",
          "height": 451
        },
        "id": "8WnhV-UpZAJz",
        "outputId": "568a753d-8b76-4d30-ec73-c19e3e0597f7"
      },
      "outputs": [
        {
          "output_type": "stream",
          "name": "stderr",
          "text": [
            "/usr/local/lib/python3.10/dist-packages/skimage/io/_plugins/matplotlib_plugin.py:150: UserWarning: Float image out of standard range; displaying image with stretched contrast.\n",
            "  lo, hi, cmap = _get_display_range(image)\n",
            "WARNING:matplotlib.image:Clipping input data to the valid range for imshow with RGB data ([0..1] for floats or [0..255] for integers).\n"
          ]
        },
        {
          "output_type": "display_data",
          "data": {
            "text/plain": [
              "<Figure size 640x480 with 2 Axes>"
            ],
            "image/png": "[encoded data removed]"
          },
          "metadata": {}
        }
      ],
      "source": [
        "# Final Classification Map\n",
        "\n",
        "from skimage import io\n",
        "from skimage import color\n",
        "from skimage import segmentation\n",
        "import matplotlib.pyplot as plt\n",
        "import numpy as np\n",
        "\n",
        "tp_indexes=target_ID\n",
        "uk_indexes=unknown_ID\n",
        "\n",
        "backgr=np.zeros([1112,731])\n",
        "seg=np.zeros([1112,731])\n",
        "for ii in range(len(tp_indexes)):\n",
        "  seg[tp_indexes[ii][0],tp_indexes[ii][1]]=y_pred[ii]+1\n",
        "\n",
        "if unknown_mode==True:\n",
        " for ii in range(len(uk_indexes[0])):\n",
        "   seg[uk_indexes[0][ii],uk_indexes[1][ii]]=y_pred[ii+len(tp_indexes)]+1\n",
        "\n",
        "\n",
        "\n",
        "\n",
        "# Generate colouring from classification labels\n",
        "io.imshow(color.label2rgb(seg.transpose(),backgr.transpose(),bg_color=(255,255,255),colors=('red','green','yellow','blue','orange','purple','grey','black')\n",
        ",bg_label=0,alpha=1))\n",
        "plt.show()"
      ]
    },
    {
      "cell_type": "code",
      "execution_count": null,
      "metadata": {
        "colab": {
          "base_uri": "https://localhost:8080/",
          "height": 416
        },
        "id": "sl4jlGQz2Q5N",
        "outputId": "c7f8ba78-a7eb-43b9-8368-c7ad3e55faf2"
      },
      "outputs": [
        {
          "output_type": "stream",
          "name": "stderr",
          "text": [
            "WARNING:matplotlib.image:Clipping input data to the valid range for imshow with RGB data ([0..1] for floats or [0..255] for integers).\n"
          ]
        },
        {
          "output_type": "display_data",
          "data": {
            "text/plain": [
              "<Figure size 640x480 with 2 Axes>"
            ],
            "image/png": "[encoded data removed]"
          },
          "metadata": {}
        }
      ],
      "source": [
        "# Ground truth\n",
        "\n",
        "\n",
        "io.imshow(color.label2rgb(target_gt.transpose(),np.zeros([731,1112]),bg_color=(255,255,255),colors=('red','green','yellow','blue','orange','purple','grey','black')\n",
        ",bg_label=0,alpha=1))\n",
        "plt.show()\n"
      ]
    },
    {
      "cell_type": "code",
      "execution_count": null,
      "metadata": {
        "id": "ESyC5UYcz7rk"
      },
      "outputs": [],
      "source": [
        "# Save Final Weights\n",
        "Model_step1.save_weights('pavia_final_weights')\n"
      ]
    }
  ],
  "metadata": {
    "colab": {
      "provenance": []
    },
    "kernelspec": {
      "display_name": "Python 3",
      "name": "python3"
    },
    "language_info": {
      "name": "python"
    }
  },
  "nbformat": 4,
  "nbformat_minor": 0
}